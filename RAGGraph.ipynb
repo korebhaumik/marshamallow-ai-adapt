{
  "cells": [
    {
      "cell_type": "code",
      "execution_count": null,
      "metadata": {
        "colab": {
          "base_uri": "https://localhost:8080/"
        },
        "id": "YXLfA8aDnt3i",
        "outputId": "6c80d9b4-d26c-4a67-d0e0-8c2aa2a9004c"
      },
      "outputs": [
        {
          "name": "stdout",
          "output_type": "stream",
          "text": [
            "  Preparing metadata (setup.py) ... \u001b[?25l\u001b[?25hdone\n",
            "\u001b[2K   \u001b[90m━━━━━━━━━━━━━━━━━━━━━━━━━━━━━━━━━━━━━━━━\u001b[0m \u001b[32m1.0/1.0 MB\u001b[0m \u001b[31m23.2 MB/s\u001b[0m eta \u001b[36m0:00:00\u001b[0m\n",
            "\u001b[2K   \u001b[90m━━━━━━━━━━━━━━━━━━━━━━━━━━━━━━━━━━━━━━━━\u001b[0m \u001b[32m2.5/2.5 MB\u001b[0m \u001b[31m88.8 MB/s\u001b[0m eta \u001b[36m0:00:00\u001b[0m\n",
            "\u001b[2K   \u001b[90m━━━━━━━━━━━━━━━━━━━━━━━━━━━━━━━━━━━━━━━━\u001b[0m \u001b[32m60.9/60.9 kB\u001b[0m \u001b[31m5.4 MB/s\u001b[0m eta \u001b[36m0:00:00\u001b[0m\n",
            "\u001b[2K   \u001b[90m━━━━━━━━━━━━━━━━━━━━━━━━━━━━━━━━━━━━━━━━\u001b[0m \u001b[32m209.2/209.2 kB\u001b[0m \u001b[31m18.0 MB/s\u001b[0m eta \u001b[36m0:00:00\u001b[0m\n",
            "\u001b[2K   \u001b[90m━━━━━━━━━━━━━━━━━━━━━━━━━━━━━━━━━━━━━━━━\u001b[0m \u001b[32m312.3/312.3 kB\u001b[0m \u001b[31m25.1 MB/s\u001b[0m eta \u001b[36m0:00:00\u001b[0m\n",
            "\u001b[2K   \u001b[90m━━━━━━━━━━━━━━━━━━━━━━━━━━━━━━━━━━━━━━━━\u001b[0m \u001b[32m1.2/1.2 MB\u001b[0m \u001b[31m66.7 MB/s\u001b[0m eta \u001b[36m0:00:00\u001b[0m\n",
            "\u001b[2K   \u001b[90m━━━━━━━━━━━━━━━━━━━━━━━━━━━━━━━━━━━━━━━━\u001b[0m \u001b[32m15.6/15.6 MB\u001b[0m \u001b[31m99.7 MB/s\u001b[0m eta \u001b[36m0:00:00\u001b[0m\n",
            "\u001b[2K   \u001b[90m━━━━━━━━━━━━━━━━━━━━━━━━━━━━━━━━━━━━━━━━\u001b[0m \u001b[32m139.8/139.8 kB\u001b[0m \u001b[31m11.1 MB/s\u001b[0m eta \u001b[36m0:00:00\u001b[0m\n",
            "\u001b[2K   \u001b[90m━━━━━━━━━━━━━━━━━━━━━━━━━━━━━━━━━━━━━━━━\u001b[0m \u001b[32m50.9/50.9 kB\u001b[0m \u001b[31m3.9 MB/s\u001b[0m eta \u001b[36m0:00:00\u001b[0m\n",
            "\u001b[2K   \u001b[90m━━━━━━━━━━━━━━━━━━━━━━━━━━━━━━━━━━━━━━━━\u001b[0m \u001b[32m2.3/2.3 MB\u001b[0m \u001b[31m71.6 MB/s\u001b[0m eta \u001b[36m0:00:00\u001b[0m\n",
            "\u001b[2K   \u001b[90m━━━━━━━━━━━━━━━━━━━━━━━━━━━━━━━━━━━━━━━━\u001b[0m \u001b[32m1.6/1.6 MB\u001b[0m \u001b[31m55.9 MB/s\u001b[0m eta \u001b[36m0:00:00\u001b[0m\n",
            "\u001b[?25h  Building wheel for wikipedia (setup.py) ... \u001b[?25l\u001b[?25hdone\n"
          ]
        }
      ],
      "source": [
        "%pip install --upgrade --quiet  langchain langchain-community langchain-openai langchain-experimental neo4j wikipedia tiktoken yfiles_jupyter_graphs"
      ]
    },
    {
      "cell_type": "code",
      "execution_count": null,
      "metadata": {
        "colab": {
          "base_uri": "https://localhost:8080/"
        },
        "id": "IGslUOXv2r56",
        "outputId": "b0e39ee3-0061-45aa-b509-27fbbb04ce2d"
      },
      "outputs": [
        {
          "name": "stdout",
          "output_type": "stream",
          "text": [
            "Collecting pypdf\n",
            "  Downloading pypdf-5.4.0-py3-none-any.whl.metadata (7.3 kB)\n",
            "Downloading pypdf-5.4.0-py3-none-any.whl (302 kB)\n",
            "\u001b[?25l   \u001b[90m━━━━━━━━━━━━━━━━━━━━━━━━━━━━━━━━━━━━━━━━\u001b[0m \u001b[32m0.0/302.3 kB\u001b[0m \u001b[31m?\u001b[0m eta \u001b[36m-:--:--\u001b[0m\r\u001b[2K   \u001b[90m━━━━━━━━━━━━━━━━━━━━━━━━━━━━━━━━━━━━━━━━\u001b[0m \u001b[32m302.3/302.3 kB\u001b[0m \u001b[31m8.9 MB/s\u001b[0m eta \u001b[36m0:00:00\u001b[0m\n",
            "\u001b[?25hInstalling collected packages: pypdf\n",
            "Successfully installed pypdf-5.4.0\n"
          ]
        }
      ],
      "source": [
        "pip install pypdf"
      ]
    },
    {
      "cell_type": "code",
      "execution_count": null,
      "metadata": {
        "id": "kwrpXtDLv-SS"
      },
      "outputs": [],
      "source": [
        "from langchain_core.runnables import (\n",
        "    RunnableBranch,\n",
        "    RunnableLambda,\n",
        "    RunnableParallel,\n",
        "    RunnablePassthrough,\n",
        ")"
      ]
    },
    {
      "cell_type": "code",
      "execution_count": null,
      "metadata": {
        "id": "s2mX4YSJwPxn"
      },
      "outputs": [],
      "source": [
        "from langchain_core.prompts import ChatPromptTemplate\n",
        "from langchain_core.prompts.prompt import PromptTemplate"
      ]
    },
    {
      "cell_type": "code",
      "execution_count": null,
      "metadata": {
        "id": "VqxUXV-JwUeo"
      },
      "outputs": [],
      "source": [
        "from google.colab import userdata\n",
        "OPENAI_API_KEY= \"your_key\""
      ]
    },
    {
      "cell_type": "code",
      "execution_count": null,
      "metadata": {
        "id": "QLCM3GRiwUbn"
      },
      "outputs": [],
      "source": [
        "from typing import Tuple, List, Optional"
      ]
    },
    {
      "cell_type": "code",
      "execution_count": null,
      "metadata": {
        "id": "S-Hgkef3wUY1"
      },
      "outputs": [],
      "source": [
        "from langchain_core.messages import AIMessage, HumanMessage\n",
        "from langchain_core.output_parsers import StrOutputParser"
      ]
    },
    {
      "cell_type": "code",
      "execution_count": null,
      "metadata": {
        "id": "AFCV4up3wUV8"
      },
      "outputs": [],
      "source": [
        "from langchain_core.runnables import ConfigurableField"
      ]
    },
    {
      "cell_type": "code",
      "execution_count": null,
      "metadata": {
        "id": "0FCM750UwwSU"
      },
      "outputs": [],
      "source": [
        "from yfiles_jupyter_graphs import GraphWidget\n",
        "from neo4j import GraphDatabase"
      ]
    },
    {
      "cell_type": "code",
      "execution_count": null,
      "metadata": {
        "id": "e-ZTvMqiwwP3"
      },
      "outputs": [],
      "source": [
        "import os"
      ]
    },
    {
      "cell_type": "code",
      "execution_count": null,
      "metadata": {
        "id": "KSTezmsRw1WO"
      },
      "outputs": [],
      "source": [
        "try:\n",
        "  import google.colab\n",
        "  from google.colab import output\n",
        "  output.enable_custom_widget_manager()\n",
        "except:\n",
        "  pass"
      ]
    },
    {
      "cell_type": "code",
      "execution_count": null,
      "metadata": {
        "id": "GJQG-dfNw1S2"
      },
      "outputs": [],
      "source": [
        "from langchain_community.vectorstores import Neo4jVector"
      ]
    },
    {
      "cell_type": "code",
      "execution_count": null,
      "metadata": {
        "id": "NEsCvhwqxHaK"
      },
      "outputs": [],
      "source": [
        "from langchain_community.graphs import Neo4jGraph"
      ]
    },
    {
      "cell_type": "code",
      "execution_count": null,
      "metadata": {
        "id": "GC5WB591xHSX"
      },
      "outputs": [],
      "source": [
        "graph = Neo4jGraph()"
      ]
    },
    {
      "cell_type": "code",
      "execution_count": null,
      "metadata": {
        "id": "AbATEYVC5GQg"
      },
      "outputs": [],
      "source": [
        "f = open(\"/content/Doctortimings.pdf\", \"r\")"
      ]
    },
    {
      "cell_type": "code",
      "execution_count": null,
      "metadata": {
        "id": "d1zvZVnt6ngg"
      },
      "outputs": [],
      "source": [
        "import os\n",
        "from langchain.document_loaders import PyPDFLoader\n",
        "from langchain.text_splitter import TokenTextSplitter\n",
        "\n",
        "# Directory containing PDFs\n",
        "pdf_directory = \"/content/Hospital\"\n",
        "\n",
        "# Load all PDFs from the directory\n",
        "documents = []\n",
        "for filename in os.listdir(pdf_directory):\n",
        "    if filename.endswith(\".pdf\"):  # Ensure only PDFs are processed\n",
        "        pdf_path = os.path.join(pdf_directory, filename)\n",
        "        loader = PyPDFLoader(pdf_path)\n",
        "        documents.extend(loader.load())\n",
        "\n",
        "# Split the documents into smaller chunks\n",
        "text_splitter = TokenTextSplitter(chunk_size=512, chunk_overlap=24)\n",
        "chunked_documents = text_splitter.split_documents(documents)"
      ]
    },
    {
      "cell_type": "code",
      "execution_count": null,
      "metadata": {
        "colab": {
          "base_uri": "https://localhost:8080/"
        },
        "id": "D9_AA6N4AYPf",
        "outputId": "93cd3b27-b62a-466f-f79a-06acbd0da5ba"
      },
      "outputs": [
        {
          "data": {
            "text/plain": [
              "[Document(metadata={'producer': 'Microsoft® Word LTSC', 'creator': 'Microsoft® Word LTSC', 'creationdate': '2025-03-21T00:04:20+05:30', 'author': 'TANISHA HARDE - 60009210117', 'moddate': '2025-03-21T00:04:20+05:30', 'source': '/content/Hospital/List of Doctors.pdf', 'total_pages': 12, 'page': 0, 'page_label': '1'}, page_content=\"List of Doctors: \\n1. Dr. Bharat Jagiasi \\no Department: Critical Care Medicine \\no Degrees: MD, DA, FICCM, IDCCM \\no Specialties: ARDS, Mechanical Ventilation, Sepsis, CRRT, ECMO, Covid-\\n19 \\n2. Dr. Chaitanya Kulkarni \\no Department: Internal Medicine \\no Degrees: DNB \\no Specialties: Diabetes Mellitus, Obesity and Other Metabolic Disorders, \\nInfectious Diseases, Thyroid Disorders, Geriatric Medicine \\n3. Dr. Chetan Vispute \\no Department: Psychiatry \\no Degrees: MD, DNB, MNAMS \\no Specialties: Addiction Medicine \\n4. Dr. Deepak Kumar Dangwal \\no Department: Cancer \\no Degrees: MD (Radiation Oncology) \\no Specialties: Head and Neck Cancers, Breast Cancer, Prostate Cancer, \\nPediatric Tumors, High Precision Radiotherapy Techniques like \\nSRS/SBRT/RAPID ARC and Adaptive Radiotherapy \\n5. Dr. Deepika Tavade \\no Department: Physical Medicine & Rehabilitation \\no Degrees: MPTh in Neurological Conditions & Lymphedema Therapist \\no Specialties: Neuro-Rehabilitation, Vestibular Rehabilitation, Geriatric \\nRehabilitation, Onco-Physiotherapy, Lymphedema Therapy, Women's \\nHealth, Post-Covid Rehabilitation \\n6. Dr. Dipak Bhangale \\no Department: Gastroenterology\"),\n",
              " Document(metadata={'producer': 'Microsoft® Word LTSC', 'creator': 'Microsoft® Word LTSC', 'creationdate': '2025-03-21T00:04:20+05:30', 'author': 'TANISHA HARDE - 60009210117', 'moddate': '2025-03-21T00:04:20+05:30', 'source': '/content/Hospital/List of Doctors.pdf', 'total_pages': 12, 'page': 1, 'page_label': '2'}, page_content='o Degrees: MBBS, MD, DrNB SS (Medical Gastroenterology and \\nHepatology), ESEGH (UK) \\no Specialties: Advanced Diagnostic and Therapeutic Endoscopy, \\nHepatology, ERCP , Endoscopic Ultrasound (EUS), Inflammatory Bowel \\nDisease, Luminal Gastroenterology, Management of GI Bleeding \\n7. Dr. Nitin Tawte \\no Department: General Surgery \\no Experience: 32+ Years \\n8. Dr. Sachin Bhojankar \\no Department: Gastrointestinal Surgery \\no Experience: 21+ Years \\n9. Dr. Rajendra Sonawane \\no Department: Gastrointestinal Surgery \\no Experience: 20+ Years \\n10. Dr. Rishabh Prakash Jain \\no Department: Gastroenterology \\no Experience: 17+ Years \\n11. Dr. Sameer Chaudhari \\no Department: Orthopedic Surgery \\no Experience: 16+ Years \\n12. Dr. Khilchand Bhangale \\no Department: Gastrointestinal Surgery \\no Experience: 14+ Years \\n13. Dr. Sarang Paramhans Bajpai \\no Department: General Surgery \\no Experience: 12+ Years \\n14. Dr. Suresh Advani \\no Department: Medical Oncology \\no Experience: 55+ Years'),\n",
              " Document(metadata={'producer': 'Microsoft® Word LTSC', 'creator': 'Microsoft® Word LTSC', 'creationdate': '2025-03-21T00:04:20+05:30', 'author': 'TANISHA HARDE - 60009210117', 'moddate': '2025-03-21T00:04:20+05:30', 'source': '/content/Hospital/List of Doctors.pdf', 'total_pages': 12, 'page': 2, 'page_label': '3'}, page_content='15. Dr. Preetinder Singh Lamba \\no Department: Endocrinology \\no Experience: 51+ Years \\n16. Dr. Jamshed Dalal \\no Department: Cardiology \\no Experience: 47+ Years \\n17. Dr. Suresh Rao \\no Department: Cardiothoracic and Vascular Surgery \\no Experience: 45+ Years \\n18. Dr. Ghanshyam R Kane \\no Department: Cardiology \\no Experience: 44+ Years \\n19. Dr. Subhash Dhiware \\no Department: Orthopedic Surgery \\no Experience: 43+ Years \\n20. Dr. Nandkishore Kapadia \\no Department: Cardiothoracic and Vascular Surgery \\no Experience: 42+ Years \\n21. Dr. Jyotsna Oak \\no Department: Rheumatology \\no Experience: 41+ Years \\n22. Dr. N.R. Shetty \\no Department: Cardiology \\no Experience: 40+ Years \\n23. Dr. Rajesh Mistry \\no Department: Surgical Oncology \\no Experience: 39+ Years \\n24. Dr. Shashank Joshi'),\n",
              " Document(metadata={'producer': 'Microsoft® Word LTSC', 'creator': 'Microsoft® Word LTSC', 'creationdate': '2025-03-21T00:04:20+05:30', 'author': 'TANISHA HARDE - 60009210117', 'moddate': '2025-03-21T00:04:20+05:30', 'source': '/content/Hospital/List of Doctors.pdf', 'total_pages': 12, 'page': 3, 'page_label': '4'}, page_content='o Department: Endocrinology \\no Experience: 38+ Years \\n26. Dr. Abhijit Bagul \\n• Department: Minimal Access & GI Surgery, Robotic Surgery, General Surgery \\n• Degrees: MS, FIAGES, FMAS, FCPS, FICS (USA) \\n• Specialties: Minimal access surgery, gastrointestinal surgery, robotic surgery \\n27. Dr. Abhijit Kulkarni \\n• Department: Neurosciences \\n• Degrees: MS (Neurosurgery), MCh \\n• Specialties: Brain tumor surgery, minimally invasive spine surgery, vascular \\nneurosurgery, management of severe head injury, endoscopic clot evacuation \\n28. Dr. Alok Sardesai \\n• Department: Paediatrics \\n• Degrees: DNB, Post Doctoral Fellowship \\n• Specialties: Growth disorders, thyroid disorders, puberty disorders, juvenile \\ndiabetes mellitus, disorders of calcium, parathyroid and bone metabolism, \\nobesity, pituitary disorders, adrenal disorders, gonadal disorders \\n29. Dr. Amit Patil \\n• Department: Cancer, Robotic Surgery \\n• Degrees: MBBS, MS (General Surgery), MCh (Plastic Surgery), MCh (Breast \\nOncoplasty), PhD (Surgical Oncology), Fellowship in Hand Microvascular and \\nTrauma Reconstruction \\n• Specialties: Plastic surgery, hand microvascular and trauma reconstruction, \\nmicrovascular onco reconstruction, breast oncoplasty \\n30. Dr. Amit Singh \\n• Department: Cardiac Sciences \\n• Degrees: DM Cardiology, MD Medicine, MBBS, EECC (UK), ESC-HFA Cert. (EU), \\nEAPCI Cert. (EU) \\n• Specialties: Acute myocardial infarction/heart attacks, coronary artery disease, \\nvalvular heart disease, structural heart interventions, advanced heart failure, \\npreventive cardiology, hypertension management, lipid/cholesterol'),\n",
              " Document(metadata={'producer': 'Microsoft® Word LTSC', 'creator': 'Microsoft® Word LTSC', 'creationdate': '2025-03-21T00:04:20+05:30', 'author': 'TANISHA HARDE - 60009210117', 'moddate': '2025-03-21T00:04:20+05:30', 'source': '/content/Hospital/List of Doctors.pdf', 'total_pages': 12, 'page': 4, 'page_label': '5'}, page_content='management, multimodality imaging of the heart (transthoracic \\nechocardiography, transesophageal echocardiography, cardiac CT, nuclear \\ncardiology) \\n31. Dr. Amjad Shaikh \\n• Department: Cardiac Sciences, Robotic Surgery \\n• Degrees: MCh (Cardiovascular & Thoracic Surgery), MS (General Surgery), FMAS \\n• Specialties: Total arterial bypass surgery, minimally invasive cardiac surgery, \\nheart transplant surgery, vascular surgery \\n32. Dr. Anand Kumar \\n• Department: Nephrology \\n• Degrees: MD, DM (Nephrology) \\n• Specialties: Acute kidney injury, chronic kidney disease, hemodialysis, \\nperitoneal dialysis, kidney transplantation \\n33. Dr. Anil Heroor \\n• Department: Surgical Oncology \\n• Degrees: MS, DNB (Surgical Oncology) \\n• Specialties: Head and neck oncology, breast oncology, gastrointestinal \\noncology, minimally invasive cancer surgery \\n34. Dr. Anil Karapurkar \\n• Department: Neurosciences \\n• Degrees: MBBS, MS, MCh (Neurosurgery) \\n• Specialties: Interventional neuroradiology, endovascular treatment of \\naneurysms, arteriovenous malformations, stroke management \\n35. Dr. Aniruddha Dayama \\n• Department: Orthopaedics \\n• Degrees: MS (Orthopaedics), DNB \\n• Specialties: Joint replacement surgery, arthroscopy, trauma surgery \\n36. Dr. Aniruddha Gokhale \\n• Department: Cardiac Sciences \\n• Degrees: MBBS, MS (General Surgery), MCh (Cardiothoracic Surgery)'),\n",
              " Document(metadata={'producer': 'Microsoft® Word LTSC', 'creator': 'Microsoft® Word LTSC', 'creationdate': '2025-03-21T00:04:20+05:30', 'author': 'TANISHA HARDE - 60009210117', 'moddate': '2025-03-21T00:04:20+05:30', 'source': '/content/Hospital/List of Doctors.pdf', 'total_pages': 12, 'page': 5, 'page_label': '6'}, page_content='• Specialties: Adult cardiac surgery, minimally invasive cardiac surgery, heart \\nfailure surgery \\n37. Dr. Anjali Kumar \\n• Department: Obstetrics & Gynaecology \\n• Degrees: MD, DNB, MNAMS \\n• Specialties: High-risk pregnancy management, laparoscopic gynecological \\nsurgeries, infertility treatment \\n38. Dr. Ankit Gupta \\n• Department: Radiology \\n• Degrees: MD (Radiology) \\n• Specialties: Cross-sectional imaging, interventional radiology \\n39. Dr. Ankur Kulkarni \\n• Department: Urology \\n• Degrees: MS, MCh (Urology) \\n• Specialties: Endourology, laparoscopic urology, uro-oncology \\n40. Dr. Anupama Mane \\n• Department: Breast Surgery \\n• Degrees: MS (General Surgery), Fellowship in Breast Surgery \\n• Specialties: Breast cancer surgery, oncoplastic breast surgery, benign breast \\ndisease management \\n41. Dr. Arindam Pande \\n• Department: Cardiology \\n• Degrees: DM (Cardiology), MD (Medicine) \\n• Specialties: Interventional cardiology, heart failure management, preventive \\ncardiology \\n42. Dr. Ashish Kumar Shrivastav \\n• Department: Neurosciences \\n• Degrees: MBBS, MS (General Surgery), MCh (Neurosurgery)'),\n",
              " Document(metadata={'producer': 'Microsoft® Word LTSC', 'creator': 'Microsoft® Word LTSC', 'creationdate': '2025-03-21T00:04:20+05:30', 'author': 'TANISHA HARDE - 60009210117', 'moddate': '2025-03-21T00:04:20+05:30', 'source': '/content/Hospital/List of Doctors.pdf', 'total_pages': 12, 'page': 6, 'page_label': '7'}, page_content='• Specialties: Skull base surgery, cerebrovascular surgery, minimally invasive \\nspine surgery, neuro-oncology \\n43. Dr. Ashish Taneja \\n• Department: Urology \\n• Degrees: MBBS, MS (General Surgery), MCh (Urology) \\n• Specialties: Endourology, laparoscopic urology, uro-oncology, renal \\ntransplantation \\n44. Dr. Ashok Kumar Singh \\n• Department: Cardiac Sciences \\n• Degrees: MBBS, MS (General Surgery), MCh (Cardiothoracic Surgery) \\n• Specialties: Adult cardiac surgery, pediatric cardiac surgery, minimally invasive \\ncardiac surgery \\n45. Dr. Atul Limaye \\n• Department: Endocrinology \\n• Degrees: MD (Medicine), DM (Endocrinology) \\n• Specialties: Diabetes mellitus, thyroid disorders, pituitary disorders, adrenal \\ndisorders, metabolic bone diseases \\n46. Dr. Avinash Date \\n• Department: Orthopaedics \\n• Degrees: MBBS, MS (Orthopaedics) \\n• Specialties: Joint replacement surgery, arthroscopy, trauma surgery \\n47. Dr. B.K. Misra \\n• Department: Neurosciences \\n• Degrees: MBBS, MS (General Surgery), MCh (Neurosurgery) \\n• Specialties: Cerebrovascular surgery, skull base surgery, minimally invasive \\nspine surgery, neuro-oncology \\n48. Dr. Balakrishna Hegde \\n• Department: Cardiology \\n• Degrees: MBBS, MD (Medicine), DM (Cardiology)'),\n",
              " Document(metadata={'producer': 'Microsoft® Word LTSC', 'creator': 'Microsoft® Word LTSC', 'creationdate': '2025-03-21T00:04:20+05:30', 'author': 'TANISHA HARDE - 60009210117', 'moddate': '2025-03-21T00:04:20+05:30', 'source': '/content/Hospital/List of Doctors.pdf', 'total_pages': 12, 'page': 7, 'page_label': '8'}, page_content='• Specialties: Interventional cardiology, heart failure management, preventive \\ncardiology \\n49. Dr. Boman Dhabhar \\n• Department: Medical Oncology \\n• Degrees: MBBS, MD (Medicine), DM (Medical Oncology) \\n• Specialties: Chemotherapy, targeted therapy, immunotherapy \\n50. Dr. Chetan Anchan \\n• Department: Orthopaedics \\n• Degrees: MBBS, MS (Orthopaedics), DNB (Orthopaedics) \\n• Specialties: Pediatric orthopaedics, limb reconstruction, deformity correction \\n51. Dr. Darshan Gandhi \\n• Department: Anaesthesiology \\n• Degrees: MBBS, MD (Anaesthesiology) \\n• Specialties: Cardiac anaesthesia, critical care, pain management \\n52. Dr. Deepak Bolbandi \\n• Department: Urology \\n• Degrees: MBBS, MS (General Surgery), MCh (Urology) \\n• Specialties: Endourology, laparoscopic urology, renal transplantation \\n53. Dr. Deepak Dubey \\n• Department: Urology \\n• Degrees: MBBS, MS (General Surgery), MCh (Urology) \\n• Specialties: Endourology, uro-oncology, renal transplantation \\n54. Dr. Deepak Jain \\n• Department: Gastroenterology \\n• Degrees: MBBS, MD (Medicine), DM (Gastroenterology) \\n• Specialties: Hepatology, therapeutic endoscopy, inflammatory bowel disease \\n55. Dr. Deepak Sarin \\n• Department: Head and Neck Oncology'),\n",
              " Document(metadata={'producer': 'Microsoft® Word LTSC', 'creator': 'Microsoft® Word LTSC', 'creationdate': '2025-03-21T00:04:20+05:30', 'author': 'TANISHA HARDE - 60009210117', 'moddate': '2025-03-21T00:04:20+05:30', 'source': '/content/Hospital/List of Doctors.pdf', 'total_pages': 12, 'page': 8, 'page_label': '9'}, page_content='• Degrees: MBBS, MS (ENT), Fellowship in Head and Neck Surgery \\n• Specialties: Head and neck cancer surgery, skull base surgery, robotic surgery \\n56. Dr. Deepak Talwar \\n• Department: Pulmonology \\n• Degrees: MBBS, MD (Medicine), DM (Pulmonology) \\n• Specialties: Interventional pulmonology, sleep medicine, critical care \\n57. Dr. Devendra Vartak \\n• Department: Plastic Surgery \\n• Degrees: MBBS, MS (General Surgery), MCh (Plastic Surgery) \\n• Specialties: Reconstructive microsurgery, aesthetic surgery, hand surgery \\n58. Dr. Dhananjay Malankar \\n• Department: Orthopaedics \\n• Degrees: MBBS, MS (Orthopaedics) \\n• Specialties: Joint replacement surgery, arthroscopy, trauma surgery \\n59. Dr. Dhananjay Shukla \\n• Department: Nephrology \\n• Degrees: MBBS, MD (Medicine), DM (Nephrology) \\n• Specialties: Management of acute kidney injury, chronic kidney disease, \\nhemodialysis, peritoneal dialysis, kidney transplantation, glomerular diseases, \\nand electrolyte disorders. \\n60. Dr. Deepika Tavade \\n• Department: Obstetrics & Gynaecology \\n• Degrees: MBBS, MD (Obstetrics & Gynaecology) \\n• Specialties: High-risk pregnancies, laparoscopic gynecological surgeries, \\ninfertility treatments \\n61. Dr. Dipak Bhangale \\n• Department: Orthopaedics \\n• Degrees: MBBS, MS (Orthopaedics)'),\n",
              " Document(metadata={'producer': 'Microsoft® Word LTSC', 'creator': 'Microsoft® Word LTSC', 'creationdate': '2025-03-21T00:04:20+05:30', 'author': 'TANISHA HARDE - 60009210117', 'moddate': '2025-03-21T00:04:20+05:30', 'source': '/content/Hospital/List of Doctors.pdf', 'total_pages': 12, 'page': 9, 'page_label': '10'}, page_content='• Specialties: Joint replacement surgeries, arthroscopic procedures, trauma \\nmanagement \\n62. Dr. Fuzail Pathan \\n• Department: Cardiology \\n• Degrees: MBBS, MD (Medicine), DM (Cardiology) \\n• Specialties: Interventional cardiology, heart failure management, preventive \\ncardiology \\n63. Dr. G.R. Kane \\n• Department: Nephrology \\n• Degrees: MBBS, MD (Medicine), DM (Nephrology) \\n• Specialties: Chronic kidney disease, dialysis, kidney transplantation \\n64. Dr. Irphan Shaikh \\n• Department: Pulmonology \\n• Degrees: MBBS, MD (Pulmonary Medicine) \\n• Specialties: Asthma, COPD, interventional pulmonology \\n65. Dr. Jaspreet Singh Khandpur \\n• Department: Dermatology \\n• Degrees: MBBS, MD (Dermatology) \\n• Specialties: Psoriasis, vitiligo, cosmetic dermatology \\n66. Dr. Ketan Vagholkar \\n• Department: General Surgery \\n• Degrees: MBBS, MS (General Surgery), DNB (General Surgery) \\n• Specialties: Hernia repairs, gastrointestinal surgeries, laparoscopic procedures \\n67. Dr. Sameer A Tulpule \\n• Department: Hematology \\n• Degrees: MBBS, MD (Medicine), DM (Hematology) \\n• Specialties: Leukemia, lymphoma, bone marrow transplantation \\n68. Dr. Wasim S Phoplunkar \\n• Department: Radiation Oncology'),\n",
              " Document(metadata={'producer': 'Microsoft® Word LTSC', 'creator': 'Microsoft® Word LTSC', 'creationdate': '2025-03-21T00:04:20+05:30', 'author': 'TANISHA HARDE - 60009210117', 'moddate': '2025-03-21T00:04:20+05:30', 'source': '/content/Hospital/List of Doctors.pdf', 'total_pages': 12, 'page': 10, 'page_label': '11'}, page_content='• Degrees: MBBS, MD (Radiation Oncology) \\n• Specialties: Head and neck cancers, breast cancer, prostate cancer \\n69. Dr. Sanjiv Badhwar \\n• Department: ENT \\n• Degrees: MBBS, MS (ENT), Fellowship in Head Neck Surgical Oncology \\n• Specialties: Head and neck surgeries, skull base surgeries, robotic surgeries \\n70. Dr. Amol Akhade \\n• Department: Gastroenterology \\n• Degrees: MBBS, MD (Medicine), DM (Gastroenterology) \\n• Specialties: Hepatology, therapeutic endoscopy, inflammatory bowel disease \\n71. Dr. Tushar Jadhav \\n• Department: Neurology \\n• Degrees: MBBS, MD (Medicine), DM (Neurology) \\n• Specialties: Stroke management, epilepsy, neuromuscular disorders \\n72. Dr. Rishabh Prakash Jain \\n• Department: Orthopaedics \\n• Degrees: MBBS, MS (Orthopaedics) \\n• Specialties: Spine surgeries, joint replacements, trauma management \\n73. Dr. Subhas Dhiware \\n• Department: Urology \\n• Degrees: MBBS, MS (General Surgery), MCh (Urology) \\n• Specialties: Endourology, laparoscopic urology, renal transplantation \\n74. Dr. Sumit Mehta \\n• Department: Plastic Surgery \\n• Degrees: MBBS, MS (General Surgery), MCh (Plastic Surgery) \\n• Specialties: Reconstructive microsurgery, aesthetic surgery, hand surgery \\n75. Dr. Suresh Advani \\n• Department: Medical Oncology'),\n",
              " Document(metadata={'producer': 'Microsoft® Word LTSC', 'creator': 'Microsoft® Word LTSC', 'creationdate': '2025-03-21T00:04:20+05:30', 'author': 'TANISHA HARDE - 60009210117', 'moddate': '2025-03-21T00:04:20+05:30', 'source': '/content/Hospital/List of Doctors.pdf', 'total_pages': 12, 'page': 11, 'page_label': '12'}, page_content='• Degrees: MBBS, MD (Medicine), DM (Medical Oncology) \\n• Specialties: Chemotherapy, targeted therapy, immunotherapy \\n76. Dr. Preetinder Singh Lamba \\n• Department: Orthopaedics \\n• Degrees: MBBS, MS (Orthopaedics) \\n• Specialties: Joint replacement surgeries, arthroscopic procedures, trauma \\nmanagement'),\n",
              " Document(metadata={'producer': 'Microsoft® Word LTSC', 'creator': 'Microsoft® Word LTSC', 'creationdate': '2025-03-20T23:49:57+05:30', 'author': 'TANISHA HARDE - 60009210117', 'moddate': '2025-03-20T23:49:57+05:30', 'source': '/content/Hospital/Doctortimings.pdf', 'total_pages': 4, 'page': 0, 'page_label': '1'}, page_content=\"Doctor's Name Days and Time \\nDr. Abhijit Kulkarni Monday to Saturday: 11:00 AM to 01:00 PM \\nDr. Abhijit Bagul Monday to Saturday: 12:00 PM to 01:00 PM \\nDr. Alok Sardesai Thursday: 01:00 PM to 02:00 PM \\nDr. Amit Patil Monday to Saturday: 09:00 AM to 12:00 PM \\nDr. Amit Singh Monday to Saturday: 10:00 AM to 06:00 PM \\nDr. Amjad Shaikh Monday to Friday: 02:00 PM to 03:00 PM \\nDr. Anish Gunnale Monday to Saturday: 08:00 AM to 08:00 PM \\nDr. Aparna Bansore Monday, Wednesday, Saturday: 09:00 AM to 11:00 AM \\nDr. Archana Jhawar Monday, Thursday, Saturday: 11:00 AM to 12:00 PM \\nDr. Ashish Dhande Wednesday: 04:00 PM to 05:00 PM \\nDr. Avinash Talele Monday to Saturday: 10:00 AM to 12:00 PM \\nDr. Avinash Borade Monday to Saturday: 11:00 AM to 01:00 PM \\nDr. Balbir Singh Kohli Monday to Saturday: 02:00 PM to 04:00 PM \\nDr. Bandita Sinha Monday, Wednesday, Friday: 03:00 PM to 05:00 PM \\nDr. Bharat Jagiasi Monday to Saturday: 09:00 AM to 11:00 AM \\nDr. Chaitanya Kulkarni Monday to Saturday: 12:00 PM to 02:00 PM \\nDr. Chetan Vispute Monday to Saturday: 04:00 PM to 06:00 PM \\nDr. Deepak Kumar Dangwal Monday to Saturday: 01:00 PM to 03:00 PM \\nDr. Deepika Tavade Monday, Wednesday, Friday: 10:00 AM to 12:00 PM \\nDr. Dipak Bhangale Monday to Saturday: 03:00 PM to 05:00 PM \\nDr. Fuzail Pathan Monday to Saturday: 02:00 PM to 04:00 PM \\nDr. G.R. Kane Monday to Saturday: 09:00 AM to 11:00 AM\"),\n",
              " Document(metadata={'producer': 'Microsoft® Word LTSC', 'creator': 'Microsoft® Word LTSC', 'creationdate': '2025-03-20T23:49:57+05:30', 'author': 'TANISHA HARDE - 60009210117', 'moddate': '2025-03-20T23:49:57+05:30', 'source': '/content/Hospital/Doctortimings.pdf', 'total_pages': 4, 'page': 1, 'page_label': '2'}, page_content='Dr. Irphan Shaikh Monday to Saturday: 11:00 AM to 01:00 PM \\nDr. Jaspreet Singh Khandpur Monday to Saturday: 05:00 PM to 07:00 PM \\nDr. Kumar Rajeev Monday to Saturday: 08:00 AM to 10:00 AM \\nDr. Kunal Goyal Monday to Saturday: 06:00 PM to 08:00 PM \\nDr. Laxman Jessani Monday to Saturday: 07:00 AM to 09:00 AM \\nDr. Lukesh Patil Monday to Saturday: 01:00 PM to 03:00 PM \\nDr. Mahesh Kothari Monday to Saturday: 03:00 PM to 05:00 PM \\nDr. Manish Kela Monday to Saturday: 02:00 PM to 04:00 PM \\nDr. Manish Sontakke Monday to Saturday: 04:00 PM to 06:00 PM \\nDr. Manisha Shambharkar Monday to Saturday: 10:00 AM to 12:00 PM \\nDr. Manit Gundavda Monday to Saturday: 12:00 PM to 02:00 PM \\nDr. Manohar Joshi Monday to Saturday: 09:00 AM to 11:00 AM \\nDr. Meenal Lohia Monday to Saturday: 11:00 AM to 01:00 PM \\nDr. Neha Dhiware Monday to Saturday: 01:00 PM to 03:00 PM \\nDr. Netra Kothari Monday to Saturday: 03:00 PM to 05:00 PM \\nDr. Nikhil Shinde Monday to Saturday: 05:00 PM to 07:00 PM \\nDr. Nikhil Iyer Monday to Saturday: 07:00 PM to 09:00 PM \\nDr. Nitin Tawte Monday to Saturday: 08:00 AM to 10:00 AM \\nDr. Orpah Kalel Monday to Saturday: 02:00 PM to 04:00 PM \\nDr. P .S Lamba Wednesday: 02:00 PM to 04:00 PM \\nSaturday: 12:00 PM to 02:00 PM \\nDr. Parth Shah Monday to Saturday: 06:00 PM to 08:00 PM \\nDr. Parth Nagda Monday to Saturday: 08:00 PM to 10:00 PM \\nDr. Piyush Jain Monday to Saturday: 10:00 AM to 12:'),\n",
              " Document(metadata={'producer': 'Microsoft® Word LTSC', 'creator': 'Microsoft® Word LTSC', 'creationdate': '2025-03-20T23:49:57+05:30', 'author': 'TANISHA HARDE - 60009210117', 'moddate': '2025-03-20T23:49:57+05:30', 'source': '/content/Hospital/Doctortimings.pdf', 'total_pages': 4, 'page': 1, 'page_label': '2'}, page_content=' 10:00 PM \\nDr. Piyush Jain Monday to Saturday: 10:00 AM to 12:00 PM'),\n",
              " Document(metadata={'producer': 'Microsoft® Word LTSC', 'creator': 'Microsoft® Word LTSC', 'creationdate': '2025-03-20T23:49:57+05:30', 'author': 'TANISHA HARDE - 60009210117', 'moddate': '2025-03-20T23:49:57+05:30', 'source': '/content/Hospital/Doctortimings.pdf', 'total_pages': 4, 'page': 2, 'page_label': '3'}, page_content='Dr. Pooja Binnani Monday to Saturday: 12:00 PM to 02:00 PM \\nDr. Poonam Gupta Monday to Saturday: 02:00 PM to 04:00 PM \\nDr. Prasad Pande Monday to Saturday: 04:00 PM to 06:00 PM \\nDr. Prathamesh Kulkarni Monday to Saturday: 06:00 PM to 08:00 PM \\nPratiksha Kadam Monday to Saturday: 08:00 AM to 10:00 AM \\nDr. Prriya Eshpuniyani Monday to Saturday: 10:00 AM to 12:00 PM \\nDr. Pushpak Chirmade Monday to Saturday: 08:00 AM to 10:00 AM \\nDr. Rashi Agrawal Monday to Saturday: 10:00 AM to 12:00 PM \\nDr. Renuka Borisa Monday to Saturday: 12:00 PM to 02:00 PM \\nDr. Salil Patkar Monday to Saturday: 02:00 PM to 04:00 PM \\nDr. Sameer Chitnis Monday to Saturday: 04:00 PM to 06:00 PM \\nDr. Samir Bhobe Monday to Saturday: 06:00 PM to 08:00 PM \\nDr. Sandeep Sonawane Monday to Saturday: 08:00 PM to 10:00 PM \\nDr. Sonali Gautam Monday to Saturday: 10:00 AM to 12:00 PM \\nDr. Sushil Kumar Monday to Saturday: 12:00 PM to 02:00 PM \\nDr. Swati Bhave Monday to Saturday: 02:00 PM to 04:00 PM \\nDr. Tanvi Shah Monday to Saturday: 04:00 PM to 06:00 PM \\nDr. Tarun Kumar Monday to Saturday: 06:00 PM to 08:00 PM \\nDr. Tejaswini Jadhav Monday to Saturday: 08:00 AM to 10:00 AM \\nDr. Uday Phadke Monday to Saturday: 10:00 AM to 12:00 PM \\nDr. Vaibhav Patil Monday to Saturday: 12:00 PM to 02:00 PM \\nDr. Varsha Bhatt Monday to Saturday: 02:00 PM to 04:00 PM \\nDr. Vikas Agrawal Monday to Saturday: 04:00 PM to 06:00 PM'),\n",
              " Document(metadata={'producer': 'Microsoft® Word LTSC', 'creator': 'Microsoft® Word LTSC', 'creationdate': '2025-03-20T23:49:57+05:30', 'author': 'TANISHA HARDE - 60009210117', 'moddate': '2025-03-20T23:49:57+05:30', 'source': '/content/Hospital/Doctortimings.pdf', 'total_pages': 4, 'page': 3, 'page_label': '4'}, page_content='Dr. Vinayak Patil Monday to Saturday: 06:00 PM to 08:00 PM \\nDr. Vishal Pawar Monday to Saturday: 08:00 PM to 10:00 PM \\nDr. Yashwant Patil Monday to Saturday: 10:00 AM to 12:00 PM \\nDr. Yogesh Patil Monday to Saturday: 12:00 PM to 02:00 PM \\nDr. Zainab Khan Monday to Saturday: 02:00 PM to 04:00 PM \\nDr. Zeeshan Khan Monday to Saturday: 04:00 PM to 06:00 PM \\nDr. Zubin Mistry Monday to Saturday: 06:00 PM to 08:00 PM')]"
            ]
          },
          "execution_count": 93,
          "metadata": {},
          "output_type": "execute_result"
        }
      ],
      "source": [
        "chunked_documents"
      ]
    },
    {
      "cell_type": "code",
      "execution_count": null,
      "metadata": {
        "id": "tEtTjJ8z7NPZ"
      },
      "outputs": [],
      "source": [
        "from langchain_openai import ChatOpenAI\n",
        "llm=ChatOpenAI(temperature=0, model_name=\"gpt-4o-mini\")"
      ]
    },
    {
      "cell_type": "code",
      "execution_count": null,
      "metadata": {
        "id": "kf873SJB-pib"
      },
      "outputs": [],
      "source": [
        "from langchain_experimental.graph_transformers import LLMGraphTransformer\n",
        "llm_transformer = LLMGraphTransformer(llm=llm)"
      ]
    },
    {
      "cell_type": "code",
      "execution_count": null,
      "metadata": {
        "id": "Ob8dt8JfCC48"
      },
      "outputs": [],
      "source": [
        "graph_documents = llm_transformer.convert_to_graph_documents(chunked_documents)"
      ]
    },
    {
      "cell_type": "code",
      "execution_count": null,
      "metadata": {
        "id": "72rOf-x5CL6Z"
      },
      "outputs": [],
      "source": [
        "graph.add_graph_documents(\n",
        "    graph_documents,\n",
        "    baseEntityLabel=True,\n",
        "    include_source=True\n",
        ")"
      ]
    },
    {
      "cell_type": "code",
      "execution_count": null,
      "metadata": {
        "id": "HWRLts6QCL-F"
      },
      "outputs": [],
      "source": [
        "default_cypher = \"MATCH (s)-[r:!MENTIONS]->(t) RETURN s,r,t LIMIT 50\""
      ]
    },
    {
      "cell_type": "code",
      "execution_count": null,
      "metadata": {
        "id": "5nMeRbjh_RuO"
      },
      "outputs": [],
      "source": [
        "from yfiles_jupyter_graphs import GraphWidget\n",
        "from neo4j import GraphDatabase"
      ]
    },
    {
      "cell_type": "code",
      "execution_count": null,
      "metadata": {
        "id": "4hJhQBaYEgOn"
      },
      "outputs": [],
      "source": [
        "try:\n",
        "  import google.colab\n",
        "  from google.colab import output\n",
        "  output.enable_custom_widget_manager()\n",
        "except:\n",
        "  pass"
      ]
    },
    {
      "cell_type": "code",
      "execution_count": null,
      "metadata": {
        "id": "bu5N2iqL_9Sr"
      },
      "outputs": [],
      "source": [
        "def showGraph(cypher: str = default_cypher):\n",
        "    # create a neo4j session to run queries\n",
        "    driver = GraphDatabase.driver(\n",
        "        uri = os.environ[\"NEO4J_URI\"],\n",
        "        auth = (os.environ[\"NEO4J_USERNAME\"],\n",
        "                os.environ[\"NEO4J_PASSWORD\"]))\n",
        "    session = driver.session()\n",
        "    widget = GraphWidget(graph = session.run(cypher).graph())\n",
        "    widget.node_label_mapping = 'id'\n",
        "    display(widget)\n",
        "    return widget"
      ]
    },
    {
      "cell_type": "code",
      "execution_count": null,
      "metadata": {
        "colab": {
          "base_uri": "https://localhost:8080/",
          "height": 1000,
          "referenced_widgets": [
            "a7777bda9d284682b4e2b593b15e6454",
            "c6f70690d55e43f989bacd5a1d7a5e53",
            "bcbda78bfb0344129a17f14c3e16ec03"
          ]
        },
        "id": "29OahjpSE-Ju",
        "outputId": "47dc6d38-0ec7-48a6-e119-0fb6e14db321"
      },
      "outputs": [
        {
          "data": {
            "application/vnd.jupyter.widget-view+json": {
              "model_id": "a7777bda9d284682b4e2b593b15e6454",
              "version_major": 2,
              "version_minor": 0
            },
            "text/plain": [
              "GraphWidget(layout=Layout(height='800px', width='100%'))"
            ]
          },
          "metadata": {
            "application/vnd.jupyter.widget-view+json": {
              "colab": {
                "custom_widget_manager": {
                  "url": "https://ssl.gstatic.com/colaboratory-static/widgets/colab-cdn-widget-manager/2b70e893a8ba7c0f/manager.min.js"
                }
              }
            }
          },
          "output_type": "display_data"
        },
        {
          "data": {
            "application/vnd.jupyter.widget-view+json": {
              "model_id": "a7777bda9d284682b4e2b593b15e6454",
              "version_major": 2,
              "version_minor": 0
            },
            "text/plain": [
              "GraphWidget(layout=Layout(height='800px', width='100%'))"
            ]
          },
          "metadata": {
            "application/vnd.jupyter.widget-view+json": {
              "colab": {
                "custom_widget_manager": {
                  "url": "https://ssl.gstatic.com/colaboratory-static/widgets/colab-cdn-widget-manager/2b70e893a8ba7c0f/manager.min.js"
                }
              }
            }
          },
          "output_type": "display_data"
        }
      ],
      "source": [
        "showGraph()"
      ]
    },
    {
      "cell_type": "code",
      "execution_count": null,
      "metadata": {
        "id": "TZgg3enPyt-R"
      },
      "outputs": [],
      "source": [
        "from langchain_community.vectorstores import Neo4jVector\n",
        "from langchain_openai import OpenAIEmbeddings\n",
        "vector_index = Neo4jVector.from_existing_graph(\n",
        "    OpenAIEmbeddings(),\n",
        "    search_type=\"hybrid\",\n",
        "    node_label=\"Document\",\n",
        "    text_node_properties=[\"text\"],\n",
        "    embedding_node_property=\"embedding\"\n",
        ")"
      ]
    },
    {
      "cell_type": "code",
      "execution_count": null,
      "metadata": {
        "colab": {
          "base_uri": "https://localhost:8080/"
        },
        "id": "PuEDAgqIzIlt",
        "outputId": "7463919a-de29-4760-8449-511f7e10ff07"
      },
      "outputs": [
        {
          "data": {
            "text/plain": [
              "[]"
            ]
          },
          "execution_count": 76,
          "metadata": {},
          "output_type": "execute_result"
        }
      ],
      "source": [
        "graph.query(\"CREATE FULLTEXT INDEX entity IF NOT EXISTS FOR (e:__Entity__) ON EACH [e.id]\")"
      ]
    },
    {
      "cell_type": "code",
      "execution_count": null,
      "metadata": {
        "id": "OsWLFCsvzNUF"
      },
      "outputs": [],
      "source": [
        "from langchain_core.pydantic_v1 import BaseModel, Field\n",
        "# Extract entities from text\n",
        "class Entities(BaseModel):\n",
        "    \"\"\"Identifying information about entities.\"\"\"\n",
        "\n",
        "    names: List[str] = Field(\n",
        "        ...,\n",
        "        description=\"All the person, organization, or business entities that \"\n",
        "        \"appear in the text\",\n",
        "    )\n"
      ]
    },
    {
      "cell_type": "code",
      "execution_count": null,
      "metadata": {
        "id": "P0xkni6QzQui"
      },
      "outputs": [],
      "source": [
        "from langchain_core.prompts import ChatPromptTemplate\n",
        "from langchain_core.prompts.prompt import PromptTemplate\n",
        "prompt = ChatPromptTemplate.from_messages(\n",
        "    [\n",
        "        (\n",
        "            \"system\",\n",
        "            \"You are extracting organization and person entities from the text.\",\n",
        "        ),\n",
        "        (\n",
        "            \"human\",\n",
        "            \"Use the given format to extract information from the following \"\n",
        "            \"input: {question}\",\n",
        "        ),\n",
        "    ]\n",
        ")"
      ]
    },
    {
      "cell_type": "code",
      "execution_count": null,
      "metadata": {
        "colab": {
          "base_uri": "https://localhost:8080/"
        },
        "id": "gx79dhihzas2",
        "outputId": "51c91822-bc94-45d4-ecab-0526d40262b1"
      },
      "outputs": [
        {
          "name": "stderr",
          "output_type": "stream",
          "text": [
            "/usr/local/lib/python3.11/dist-packages/langchain_openai/chat_models/base.py:1534: UserWarning: Received a Pydantic BaseModel V1 schema. This is not supported by method=\"json_schema\". Please use method=\"function_calling\" or specify schema via JSON Schema or Pydantic V2 BaseModel. Overriding to method=\"function_calling\".\n",
            "  warnings.warn(\n"
          ]
        }
      ],
      "source": [
        "entity_chain = prompt | llm.with_structured_output(Entities)"
      ]
    },
    {
      "cell_type": "code",
      "execution_count": null,
      "metadata": {
        "id": "5o0G4JLYzczP"
      },
      "outputs": [],
      "source": [
        "from langchain_community.vectorstores.neo4j_vector import remove_lucene_chars"
      ]
    },
    {
      "cell_type": "code",
      "execution_count": null,
      "metadata": {
        "id": "IT6NgXepzgm4"
      },
      "outputs": [],
      "source": [
        "def generate_full_text_query(input: str) -> str:\n",
        "    full_text_query = \"\"\n",
        "    words = [el for el in remove_lucene_chars(input).split() if el]\n",
        "    for word in words[:-1]:\n",
        "        full_text_query += f\" {word}~2 AND\"\n",
        "    full_text_query += f\" {words[-1]}~2\"\n",
        "    return full_text_query.strip()"
      ]
    },
    {
      "cell_type": "code",
      "execution_count": null,
      "metadata": {
        "id": "Q1mdC4MqGIaJ"
      },
      "outputs": [],
      "source": [
        "import uuid\n",
        "from datetime import datetime\n",
        "\n",
        "def book_appointment(entity_name: str, user_name: str, date: str, time: str):\n",
        "    \"\"\"\n",
        "    Book an appointment with a specific entity (e.g., doctor, restaurant).\n",
        "    If the slot is already taken, it returns an error message.\n",
        "    \"\"\"\n",
        "    appointment_id = str(uuid.uuid4())  # Generate a unique appointment ID\n",
        "\n",
        "    query = \"\"\"\n",
        "    MATCH (e:__Entity__ {id: $entity_name})\n",
        "    OPTIONAL MATCH (e)-[:HAS_APPOINTMENT]->(a:Appointment {date: $date, time: $time})\n",
        "    RETURN a\n",
        "    \"\"\"\n",
        "    result = graph.query(query, {\"entity_name\": entity_name, \"date\": date, \"time\": time})\n",
        "\n",
        "    if result and result[0]['a']:\n",
        "        return f\"Sorry, {entity_name} is not available at {time} on {date}.\"\n",
        "\n",
        "    create_query = \"\"\"\n",
        "    MATCH (e:__Entity__ {id: $entity_name})\n",
        "    CREATE (a:Appointment {id: $appointment_id, date: $date, time: $time, booked_by: $user_name})\n",
        "    MERGE (e)-[:HAS_APPOINTMENT]->(a)\n",
        "    RETURN a\n",
        "    \"\"\"\n",
        "    graph.query(create_query, {\n",
        "        \"entity_name\": entity_name,\n",
        "        \"appointment_id\": appointment_id,\n",
        "        \"date\": date,\n",
        "        \"time\": time,\n",
        "        \"user_name\": user_name\n",
        "    })\n",
        "    return f\"Appointment booked with {entity_name} at {time} on {date}.\"\n"
      ]
    },
    {
      "cell_type": "code",
      "execution_count": null,
      "metadata": {
        "id": "n-86_Ue0GNKd"
      },
      "outputs": [],
      "source": [
        "def check_availability(entity_name: str, date: str):\n",
        "    \"\"\"\n",
        "    Returns a list of available time slots for a given entity on a specific date.\n",
        "    \"\"\"\n",
        "    query = \"\"\"\n",
        "    MATCH (e:__Entity__ {id: $entity_name})\n",
        "    OPTIONAL MATCH (e)-[:HAS_APPOINTMENT]->(a:Appointment {date: $date})\n",
        "    RETURN COLLECT(a.time) AS booked_slots\n",
        "    \"\"\"\n",
        "    result = graph.query(query, {\"entity_name\": entity_name, \"date\": date})\n",
        "\n",
        "    all_slots = [\"09:00 AM\", \"10:00 AM\", \"11:00 AM\", \"12:00 PM\", \"02:00 PM\", \"03:00 PM\", \"04:00 PM\"]  # Modify based on requirement\n",
        "    booked_slots = result[0]['booked_slots'] if result else []\n",
        "    available_slots = [slot for slot in all_slots if slot not in booked_slots]\n",
        "\n",
        "    return f\"Available slots for {entity_name} on {date}: {', '.join(available_slots) if available_slots else 'No available slots'}\"\n"
      ]
    },
    {
      "cell_type": "code",
      "execution_count": null,
      "metadata": {
        "id": "znoN6tFuzkMY"
      },
      "outputs": [],
      "source": [
        "def structured_retriever(question: str) -> str:\n",
        "    result = \"\"\n",
        "    entities = entity_chain.invoke({\"question\": question})\n",
        "    for entity in entities.names:\n",
        "        response = graph.query(\n",
        "            \"\"\"CALL db.index.fulltext.queryNodes('entity', $query, {limit:2})\n",
        "            YIELD node,score\n",
        "            CALL {\n",
        "              WITH node\n",
        "              MATCH (node)-[r:!MENTIONS]->(neighbor)\n",
        "              RETURN node.id + ' - ' + type(r) + ' -> ' + neighbor.id AS output\n",
        "              UNION ALL\n",
        "              WITH node\n",
        "              MATCH (node)<-[r:!MENTIONS]-(neighbor)\n",
        "              RETURN neighbor.id + ' - ' + type(r) + ' -> ' +  node.id AS output\n",
        "            }\n",
        "            RETURN output LIMIT 50\n",
        "            \"\"\",\n",
        "            {\"query\": generate_full_text_query(entity)},\n",
        "        )\n",
        "        result += \"\\n\".join([el['output'] for el in response])\n",
        "    return result"
      ]
    },
    {
      "cell_type": "code",
      "execution_count": null,
      "metadata": {
        "id": "NH1PbV7BzmY1"
      },
      "outputs": [],
      "source": [
        "def retriever(question: str):\n",
        "    print(f\"Search query: {question}\")\n",
        "    structured_data = structured_retriever(question)\n",
        "    unstructured_data = [el.page_content for el in vector_index.similarity_search(question)]\n",
        "    final_data = f\"\"\"Structured data:\n",
        "{structured_data}\n",
        "Unstructured data:\n",
        "{\"#Document \". join(unstructured_data)}\n",
        "    \"\"\"\n",
        "    return final_data"
      ]
    },
    {
      "cell_type": "code",
      "execution_count": null,
      "metadata": {
        "id": "Tqz5DBzfGQlT"
      },
      "outputs": [],
      "source": [
        "def retriever(question: str):\n",
        "    print(f\"Search query: {question}\")\n",
        "\n",
        "    structured_data = structured_retriever(question)\n",
        "    unstructured_data = [el.page_content for el in vector_index.similarity_search(question)]\n",
        "\n",
        "    # Extract entity name and date (simple approach, enhance as needed)\n",
        "    entities = entity_chain.invoke({\"question\": question})\n",
        "    entity_name = entities.names[0] if entities.names else None\n",
        "\n",
        "    availability_info = \"\"\n",
        "    if entity_name and \"available\" in question.lower():\n",
        "        today = datetime.today().strftime('%Y-%m-%d')  # Get today's date\n",
        "        availability_info = check_availability(entity_name, today)\n",
        "\n",
        "    final_data = f\"\"\"Structured data:\n",
        "{structured_data}\n",
        "Unstructured data:\n",
        "{\"#Document \". join(unstructured_data)}\n",
        "Availability Information:\n",
        "{availability_info}\n",
        "    \"\"\"\n",
        "    return final_data"
      ]
    },
    {
      "cell_type": "code",
      "execution_count": null,
      "metadata": {
        "id": "m5u5C9I_zqVa"
      },
      "outputs": [],
      "source": [
        "_template = \"\"\"Given the following conversation and a follow up question, rephrase the follow up question to be a standalone question,\n",
        "in its original language.\n",
        "Chat History:\n",
        "{chat_history}\n",
        "Follow Up Input: {question}\n",
        "Standalone question:\"\"\""
      ]
    },
    {
      "cell_type": "code",
      "execution_count": null,
      "metadata": {
        "id": "sj4FUzeLzspy"
      },
      "outputs": [],
      "source": [
        "CONDENSE_QUESTION_PROMPT = PromptTemplate.from_template(_template)"
      ]
    },
    {
      "cell_type": "code",
      "execution_count": null,
      "metadata": {
        "id": "pC2j67FCzutI"
      },
      "outputs": [],
      "source": [
        "def _format_chat_history(chat_history: List[Tuple[str, str]]) -> List:\n",
        "    buffer = []\n",
        "    for human, ai in chat_history:\n",
        "        buffer.append(HumanMessage(content=human))\n",
        "        buffer.append(AIMessage(content=ai))\n",
        "    return buffer"
      ]
    },
    {
      "cell_type": "code",
      "execution_count": null,
      "metadata": {
        "id": "Yz1LzvKyzwiB"
      },
      "outputs": [],
      "source": [
        "_search_query = RunnableBranch(\n",
        "    # If input includes chat_history, we condense it with the follow-up question\n",
        "    (\n",
        "        RunnableLambda(lambda x: bool(x.get(\"chat_history\"))).with_config(\n",
        "            run_name=\"HasChatHistoryCheck\"\n",
        "        ),  # Condense follow-up question and chat into a standalone_question\n",
        "        RunnablePassthrough.assign(\n",
        "            chat_history=lambda x: _format_chat_history(x[\"chat_history\"])\n",
        "        )\n",
        "        | CONDENSE_QUESTION_PROMPT\n",
        "        | ChatOpenAI(temperature=0)\n",
        "        | StrOutputParser(),\n",
        "    ),\n",
        "    # Else, we have no chat history, so just pass through the question\n",
        "    RunnableLambda(lambda x : x[\"question\"]),\n",
        ")\n"
      ]
    },
    {
      "cell_type": "code",
      "execution_count": null,
      "metadata": {
        "id": "HttFbkgSzy45"
      },
      "outputs": [],
      "source": [
        "template = \"\"\"Answer the question based only on the following context:\n",
        "{context}\n",
        "\n",
        "Question: {question}\n",
        "Use natural language.\n",
        "Answer:\"\"\""
      ]
    },
    {
      "cell_type": "code",
      "execution_count": null,
      "metadata": {
        "id": "p1sgpVpHz1bV"
      },
      "outputs": [],
      "source": [
        "prompt = ChatPromptTemplate.from_template(template)"
      ]
    },
    {
      "cell_type": "code",
      "execution_count": null,
      "metadata": {
        "id": "gnDRnO_zz3XR"
      },
      "outputs": [],
      "source": [
        "chain = (\n",
        "    RunnableParallel(\n",
        "        {\n",
        "            \"context\": _search_query | retriever,\n",
        "            \"question\": RunnablePassthrough(),\n",
        "        }\n",
        "    )\n",
        "    | prompt\n",
        "    | llm\n",
        "    | StrOutputParser()\n",
        ")"
      ]
    },
    {
      "cell_type": "code",
      "execution_count": null,
      "metadata": {
        "colab": {
          "base_uri": "https://localhost:8080/"
        },
        "id": "eV5VZJge0L1D",
        "outputId": "f4220cbc-3d3b-4172-f029-7bb7360636fb"
      },
      "outputs": [
        {
          "name": "stderr",
          "output_type": "stream",
          "text": [
            "WARNING:neo4j.notifications:Received notification from DBMS server: {severity: WARNING} {code: Neo.ClientNotification.Statement.UnknownRelationshipTypeWarning} {category: UNRECOGNIZED} {title: The provided relationship type is not in the database.} {description: One of the relationship types in your query is not available in the database, make sure you didn't misspell it or that the label is available when you run this statement in your application (the missing relationship type is: HAS_APPOINTMENT)} {position: line: 3, column: 26, offset: 70} for query: '\\n    MATCH (e:__Entity__ {id: $entity_name})\\n    OPTIONAL MATCH (e)-[:HAS_APPOINTMENT]->(a:Appointment {date: $date, time: $time})\\n    RETURN a\\n    '\n",
            "WARNING:neo4j.notifications:Received notification from DBMS server: {severity: WARNING} {code: Neo.ClientNotification.Statement.UnknownPropertyKeyWarning} {category: UNRECOGNIZED} {title: The provided property key is not in the database} {description: One of the property names in your query is not available in the database, make sure you didn't misspell it or that the label is available when you run this statement in your application (the missing property name is: date)} {position: line: 3, column: 60, offset: 104} for query: '\\n    MATCH (e:__Entity__ {id: $entity_name})\\n    OPTIONAL MATCH (e)-[:HAS_APPOINTMENT]->(a:Appointment {date: $date, time: $time})\\n    RETURN a\\n    '\n",
            "WARNING:neo4j.notifications:Received notification from DBMS server: {severity: WARNING} {code: Neo.ClientNotification.Statement.UnknownPropertyKeyWarning} {category: UNRECOGNIZED} {title: The provided property key is not in the database} {description: One of the property names in your query is not available in the database, make sure you didn't misspell it or that the label is available when you run this statement in your application (the missing property name is: time)} {position: line: 3, column: 73, offset: 117} for query: '\\n    MATCH (e:__Entity__ {id: $entity_name})\\n    OPTIONAL MATCH (e)-[:HAS_APPOINTMENT]->(a:Appointment {date: $date, time: $time})\\n    RETURN a\\n    '\n"
          ]
        },
        {
          "name": "stdout",
          "output_type": "stream",
          "text": [
            "Appointment booked with Dr. Alok Sardesai at 10:00 AM on 2025-03-22.\n"
          ]
        }
      ],
      "source": [
        "print(book_appointment(\"Dr. Alok Sardesai\", \"John Doe\", \"2025-03-22\", \"10:00 AM\"))"
      ]
    },
    {
      "cell_type": "code",
      "execution_count": null,
      "metadata": {
        "colab": {
          "base_uri": "https://localhost:8080/"
        },
        "id": "YQFgMC0OGbVT",
        "outputId": "38efadda-f53e-44ed-eadd-7b2ac462f041"
      },
      "outputs": [
        {
          "name": "stdout",
          "output_type": "stream",
          "text": [
            "Available slots for Dr. Alok Sardesai on 2025-03-22: 09:00 AM, 11:00 AM, 12:00 PM, 02:00 PM, 03:00 PM, 04:00 PM\n"
          ]
        }
      ],
      "source": [
        "print(check_availability(\"Dr. Alok Sardesai\", \"2025-03-22\"))"
      ]
    },
    {
      "cell_type": "code",
      "execution_count": null,
      "metadata": {
        "colab": {
          "base_uri": "https://localhost:8080/",
          "height": 125
        },
        "id": "cETmfqoBz6Ha",
        "outputId": "842ee3f0-aecd-4df1-9828-451f8d905c59"
      },
      "outputs": [
        {
          "name": "stdout",
          "output_type": "stream",
          "text": [
            "Search query: will Dr. Alok Sardesai be available on 2025-03-22 at 10am?\n"
          ]
        },
        {
          "name": "stderr",
          "output_type": "stream",
          "text": [
            "WARNING:neo4j.notifications:Received notification from DBMS server: {severity: WARNING} {code: Neo.ClientNotification.Statement.FeatureDeprecationWarning} {category: DEPRECATION} {title: This feature is deprecated and will be removed in future versions.} {description: CALL subquery without a variable scope clause is now deprecated. Use CALL (node, node) { ... }} {position: line: 3, column: 13, offset: 104} for query: \"CALL db.index.fulltext.queryNodes('entity', $query, {limit:2})\\n            YIELD node,score\\n            CALL {\\n              WITH node\\n              MATCH (node)-[r:!MENTIONS]->(neighbor)\\n              RETURN node.id + ' - ' + type(r) + ' -> ' + neighbor.id AS output\\n              UNION ALL\\n              WITH node\\n              MATCH (node)<-[r:!MENTIONS]-(neighbor)\\n              RETURN neighbor.id + ' - ' + type(r) + ' -> ' +  node.id AS output\\n            }\\n            RETURN output LIMIT 50\\n            \"\n",
            "WARNING:neo4j.notifications:Received notification from DBMS server: {severity: WARNING} {code: Neo.ClientNotification.Statement.FeatureDeprecationWarning} {category: DEPRECATION} {title: This feature is deprecated and will be removed in future versions.} {description: CALL subquery without a variable scope clause is now deprecated. Use CALL () { ... }} {position: line: 1, column: 1, offset: 0} for query: \"CALL { CALL db.index.vector.queryNodes($index, $k, $embedding) YIELD node, score WITH collect({node:node, score:score}) AS nodes, max(score) AS max UNWIND nodes AS n RETURN n.node AS node, (n.score / max) AS score UNION CALL db.index.fulltext.queryNodes($keyword_index, $query, {limit: $k}) YIELD node, score WITH collect({node:node, score:score}) AS nodes, max(score) AS max UNWIND nodes AS n RETURN n.node AS node, (n.score / max) AS score } WITH node, max(score) AS score ORDER BY score DESC LIMIT $k RETURN reduce(str='', k IN ['text'] | str + '\\\\n' + k + ': ' + coalesce(node[k], '')) AS text, node {.*, `embedding`: Null, id: Null, `text`: Null} AS metadata, score\"\n",
            "WARNING:neo4j.notifications:Received notification from DBMS server: {severity: WARNING} {code: Neo.ClientNotification.Statement.AggregationSkippedNull} {category: UNRECOGNIZED} {title: The query contains an aggregation function that skips null values.} {description: null value eliminated in set function.} {position: None} for query: '\\n    MATCH (e:__Entity__ {id: $entity_name})\\n    OPTIONAL MATCH (e)-[:HAS_APPOINTMENT]->(a:Appointment {date: $date})\\n    RETURN COLLECT(a.time) AS booked_slots\\n    '\n"
          ]
        },
        {
          "data": {
            "application/vnd.google.colaboratory.intrinsic+json": {
              "type": "string"
            },
            "text/plain": [
              "'No, Dr. Alok Sardesai will not be available on 2025-03-22 at 10 AM. His availability is only on Thursdays from 01:00 PM to 02:00 PM.'"
            ]
          },
          "execution_count": 111,
          "metadata": {},
          "output_type": "execute_result"
        }
      ],
      "source": [
        "chain.invoke({\"question\": \"will Dr. Alok Sardesai be available on 2025-03-22 at 10am?\"})"
      ]
    },
    {
      "cell_type": "code",
      "execution_count": null,
      "metadata": {
        "id": "FxTkU9jSGfaL"
      },
      "outputs": [],
      "source": []
    }
  ],
  "metadata": {
    "accelerator": "GPU",
    "colab": {
      "gpuType": "T4",
      "provenance": []
    },
    "kernelspec": {
      "display_name": "Python 3",
      "name": "python3"
    },
    "language_info": {
      "name": "python"
    },
    "widgets": {
      "application/vnd.jupyter.widget-state+json": {
        "a7777bda9d284682b4e2b593b15e6454": {
          "model_module": "yfiles-jupyter-graphs",
          "model_module_version": "^1.10.1",
          "model_name": "GraphModel",
          "state": {
            "_context_pane_mapping": [
              {
                "id": "Neighborhood",
                "title": "Neighborhood"
              },
              {
                "id": "Data",
                "title": "Data"
              },
              {
                "id": "Search",
                "title": "Search"
              },
              {
                "id": "About",
                "title": "About"
              }
            ],
            "_data_importer": "neo4j",
            "_directed": true,
            "_dom_classes": [],
            "_edges": [
              {
                "color": "#F44336",
                "directed": true,
                "end": 23,
                "id": 6917530127152710000,
                "label": "AVAILABILITY",
                "properties": {
                  "label": "AVAILABILITY"
                },
                "start": 1,
                "styles": {},
                "thickness_factor": 1
              },
              {
                "color": "#607D8B",
                "directed": true,
                "end": 23,
                "id": 1152924803141730300,
                "label": "SCHEDULES",
                "properties": {
                  "label": "SCHEDULES"
                },
                "start": 1,
                "styles": {},
                "thickness_factor": 1
              },
              {
                "color": "#F44336",
                "directed": true,
                "end": 24,
                "id": 6917530127152710000,
                "label": "AVAILABILITY",
                "properties": {
                  "label": "AVAILABILITY"
                },
                "start": 2,
                "styles": {},
                "thickness_factor": 1
              },
              {
                "color": "#607D8B",
                "directed": true,
                "end": 24,
                "id": 1152924803141730300,
                "label": "SCHEDULES",
                "properties": {
                  "label": "SCHEDULES"
                },
                "start": 2,
                "styles": {},
                "thickness_factor": 1
              },
              {
                "color": "#F44336",
                "directed": true,
                "end": 25,
                "id": 6917530127152710000,
                "label": "AVAILABILITY",
                "properties": {
                  "label": "AVAILABILITY"
                },
                "start": 3,
                "styles": {},
                "thickness_factor": 1
              },
              {
                "color": "#607D8B",
                "directed": true,
                "end": 25,
                "id": 1152924803141730300,
                "label": "SCHEDULES",
                "properties": {
                  "label": "SCHEDULES"
                },
                "start": 3,
                "styles": {},
                "thickness_factor": 1
              },
              {
                "color": "#F44336",
                "directed": true,
                "end": 26,
                "id": 6917530127152710000,
                "label": "AVAILABILITY",
                "properties": {
                  "label": "AVAILABILITY"
                },
                "start": 4,
                "styles": {},
                "thickness_factor": 1
              },
              {
                "color": "#607D8B",
                "directed": true,
                "end": 26,
                "id": 1152924803141730300,
                "label": "SCHEDULES",
                "properties": {
                  "label": "SCHEDULES"
                },
                "start": 4,
                "styles": {},
                "thickness_factor": 1
              },
              {
                "color": "#F44336",
                "directed": true,
                "end": 27,
                "id": 6917530127152710000,
                "label": "AVAILABILITY",
                "properties": {
                  "label": "AVAILABILITY"
                },
                "start": 5,
                "styles": {},
                "thickness_factor": 1
              },
              {
                "color": "#607D8B",
                "directed": true,
                "end": 27,
                "id": 1152924803141730300,
                "label": "SCHEDULES",
                "properties": {
                  "label": "SCHEDULES"
                },
                "start": 5,
                "styles": {},
                "thickness_factor": 1
              },
              {
                "color": "#F44336",
                "directed": true,
                "end": 28,
                "id": 6917530127152710000,
                "label": "AVAILABILITY",
                "properties": {
                  "label": "AVAILABILITY"
                },
                "start": 6,
                "styles": {},
                "thickness_factor": 1
              },
              {
                "color": "#607D8B",
                "directed": true,
                "end": 28,
                "id": 1152924803141730300,
                "label": "SCHEDULES",
                "properties": {
                  "label": "SCHEDULES"
                },
                "start": 6,
                "styles": {},
                "thickness_factor": 1
              },
              {
                "color": "#F44336",
                "directed": true,
                "end": 29,
                "id": 6917530127152710000,
                "label": "AVAILABILITY",
                "properties": {
                  "label": "AVAILABILITY"
                },
                "start": 7,
                "styles": {},
                "thickness_factor": 1
              },
              {
                "color": "#607D8B",
                "directed": true,
                "end": 29,
                "id": 1152924803141730300,
                "label": "SCHEDULES",
                "properties": {
                  "label": "SCHEDULES"
                },
                "start": 7,
                "styles": {},
                "thickness_factor": 1
              },
              {
                "color": "#F44336",
                "directed": true,
                "end": 30,
                "id": 6917530127152710000,
                "label": "AVAILABILITY",
                "properties": {
                  "label": "AVAILABILITY"
                },
                "start": 8,
                "styles": {},
                "thickness_factor": 1
              },
              {
                "color": "#607D8B",
                "directed": true,
                "end": 30,
                "id": 1152924803141730300,
                "label": "SCHEDULES",
                "properties": {
                  "label": "SCHEDULES"
                },
                "start": 8,
                "styles": {},
                "thickness_factor": 1
              },
              {
                "color": "#F44336",
                "directed": true,
                "end": 31,
                "id": 6917530127152710000,
                "label": "AVAILABILITY",
                "properties": {
                  "label": "AVAILABILITY"
                },
                "start": 9,
                "styles": {},
                "thickness_factor": 1
              },
              {
                "color": "#607D8B",
                "directed": true,
                "end": 31,
                "id": 1152924803141730300,
                "label": "SCHEDULES",
                "properties": {
                  "label": "SCHEDULES"
                },
                "start": 9,
                "styles": {},
                "thickness_factor": 1
              },
              {
                "color": "#F44336",
                "directed": true,
                "end": 32,
                "id": 6917530127152710000,
                "label": "AVAILABILITY",
                "properties": {
                  "label": "AVAILABILITY"
                },
                "start": 10,
                "styles": {},
                "thickness_factor": 1
              },
              {
                "color": "#607D8B",
                "directed": true,
                "end": 32,
                "id": 1152924803141730300,
                "label": "SCHEDULES",
                "properties": {
                  "label": "SCHEDULES"
                },
                "start": 10,
                "styles": {},
                "thickness_factor": 1
              },
              {
                "color": "#F44336",
                "directed": true,
                "end": 33,
                "id": 6917530127152710000,
                "label": "AVAILABILITY",
                "properties": {
                  "label": "AVAILABILITY"
                },
                "start": 11,
                "styles": {},
                "thickness_factor": 1
              },
              {
                "color": "#607D8B",
                "directed": true,
                "end": 33,
                "id": 1152924803141730300,
                "label": "SCHEDULES",
                "properties": {
                  "label": "SCHEDULES"
                },
                "start": 11,
                "styles": {},
                "thickness_factor": 1
              },
              {
                "color": "#F44336",
                "directed": true,
                "end": 23,
                "id": 6919781926966395000,
                "label": "AVAILABILITY",
                "properties": {
                  "label": "AVAILABILITY"
                },
                "start": 12,
                "styles": {},
                "thickness_factor": 1
              },
              {
                "color": "#607D8B",
                "directed": true,
                "end": 23,
                "id": 1152924803141730300,
                "label": "SCHEDULES",
                "properties": {
                  "label": "SCHEDULES"
                },
                "start": 12,
                "styles": {},
                "thickness_factor": 1
              },
              {
                "color": "#F44336",
                "directed": true,
                "end": 34,
                "id": 6917530127152710000,
                "label": "AVAILABILITY",
                "properties": {
                  "label": "AVAILABILITY"
                },
                "start": 13,
                "styles": {},
                "thickness_factor": 1
              },
              {
                "color": "#607D8B",
                "directed": true,
                "end": 34,
                "id": 1152924803141730300,
                "label": "SCHEDULES",
                "properties": {
                  "label": "SCHEDULES"
                },
                "start": 13,
                "styles": {},
                "thickness_factor": 1
              },
              {
                "color": "#F44336",
                "directed": true,
                "end": 35,
                "id": 6917530127152710000,
                "label": "AVAILABILITY",
                "properties": {
                  "label": "AVAILABILITY"
                },
                "start": 14,
                "styles": {},
                "thickness_factor": 1
              },
              {
                "color": "#607D8B",
                "directed": true,
                "end": 35,
                "id": 1152924803141730300,
                "label": "SCHEDULES",
                "properties": {
                  "label": "SCHEDULES"
                },
                "start": 14,
                "styles": {},
                "thickness_factor": 1
              },
              {
                "color": "#F44336",
                "directed": true,
                "end": 36,
                "id": 6917530127152710000,
                "label": "AVAILABILITY",
                "properties": {
                  "label": "AVAILABILITY"
                },
                "start": 15,
                "styles": {},
                "thickness_factor": 1
              },
              {
                "color": "#607D8B",
                "directed": true,
                "end": 36,
                "id": 1152924803141730300,
                "label": "SCHEDULES",
                "properties": {
                  "label": "SCHEDULES"
                },
                "start": 15,
                "styles": {},
                "thickness_factor": 1
              },
              {
                "color": "#F44336",
                "directed": true,
                "end": 37,
                "id": 6917530127152710000,
                "label": "AVAILABILITY",
                "properties": {
                  "label": "AVAILABILITY"
                },
                "start": 16,
                "styles": {},
                "thickness_factor": 1
              },
              {
                "color": "#607D8B",
                "directed": true,
                "end": 37,
                "id": 1152924803141730300,
                "label": "SCHEDULES",
                "properties": {
                  "label": "SCHEDULES"
                },
                "start": 16,
                "styles": {},
                "thickness_factor": 1
              },
              {
                "color": "#F44336",
                "directed": true,
                "end": 38,
                "id": 6917530127152710000,
                "label": "AVAILABILITY",
                "properties": {
                  "label": "AVAILABILITY"
                },
                "start": 17,
                "styles": {},
                "thickness_factor": 1
              },
              {
                "color": "#607D8B",
                "directed": true,
                "end": 38,
                "id": 1152924803141730300,
                "label": "SCHEDULES",
                "properties": {
                  "label": "SCHEDULES"
                },
                "start": 17,
                "styles": {},
                "thickness_factor": 1
              },
              {
                "color": "#F44336",
                "directed": true,
                "end": 39,
                "id": 6917530127152710000,
                "label": "AVAILABILITY",
                "properties": {
                  "label": "AVAILABILITY"
                },
                "start": 18,
                "styles": {},
                "thickness_factor": 1
              },
              {
                "color": "#607D8B",
                "directed": true,
                "end": 39,
                "id": 1152924803141730300,
                "label": "SCHEDULES",
                "properties": {
                  "label": "SCHEDULES"
                },
                "start": 18,
                "styles": {},
                "thickness_factor": 1
              },
              {
                "color": "#F44336",
                "directed": true,
                "end": 40,
                "id": 6917530127152710000,
                "label": "AVAILABILITY",
                "properties": {
                  "label": "AVAILABILITY"
                },
                "start": 19,
                "styles": {},
                "thickness_factor": 1
              },
              {
                "color": "#607D8B",
                "directed": true,
                "end": 40,
                "id": 1152924803141730300,
                "label": "SCHEDULES",
                "properties": {
                  "label": "SCHEDULES"
                },
                "start": 19,
                "styles": {},
                "thickness_factor": 1
              },
              {
                "color": "#F44336",
                "directed": true,
                "end": 41,
                "id": 6917530127152710000,
                "label": "AVAILABILITY",
                "properties": {
                  "label": "AVAILABILITY"
                },
                "start": 20,
                "styles": {},
                "thickness_factor": 1
              },
              {
                "color": "#607D8B",
                "directed": true,
                "end": 41,
                "id": 1152924803141730300,
                "label": "SCHEDULES",
                "properties": {
                  "label": "SCHEDULES"
                },
                "start": 20,
                "styles": {},
                "thickness_factor": 1
              },
              {
                "color": "#F44336",
                "directed": true,
                "end": 34,
                "id": 6919781926966395000,
                "label": "AVAILABILITY",
                "properties": {
                  "label": "AVAILABILITY"
                },
                "start": 21,
                "styles": {},
                "thickness_factor": 1
              },
              {
                "color": "#607D8B",
                "directed": true,
                "end": 34,
                "id": 1152924803141730300,
                "label": "SCHEDULES",
                "properties": {
                  "label": "SCHEDULES"
                },
                "start": 21,
                "styles": {},
                "thickness_factor": 1
              },
              {
                "color": "#F44336",
                "directed": true,
                "end": 36,
                "id": 6919781926966395000,
                "label": "AVAILABILITY",
                "properties": {
                  "label": "AVAILABILITY"
                },
                "start": 22,
                "styles": {},
                "thickness_factor": 1
              },
              {
                "color": "#607D8B",
                "directed": true,
                "end": 36,
                "id": 1152924803141730300,
                "label": "SCHEDULES",
                "properties": {
                  "label": "SCHEDULES"
                },
                "start": 22,
                "styles": {},
                "thickness_factor": 1
              },
              {
                "color": "#F44336",
                "directed": true,
                "end": 23,
                "id": 1152922604118474800,
                "label": "AVAILABILITY",
                "properties": {
                  "label": "AVAILABILITY"
                },
                "start": 43,
                "styles": {},
                "thickness_factor": 1
              },
              {
                "color": "#673AB7",
                "directed": true,
                "end": 23,
                "id": 1152925902653358000,
                "label": "AVAILABLE",
                "properties": {
                  "label": "AVAILABLE"
                },
                "start": 43,
                "styles": {},
                "thickness_factor": 1
              },
              {
                "color": "#F44336",
                "directed": true,
                "end": 66,
                "id": 6917530127152710000,
                "label": "AVAILABILITY",
                "properties": {
                  "label": "AVAILABILITY"
                },
                "start": 44,
                "styles": {},
                "thickness_factor": 1
              },
              {
                "color": "#673AB7",
                "directed": true,
                "end": 66,
                "id": 1152925902653358000,
                "label": "AVAILABLE",
                "properties": {
                  "label": "AVAILABLE"
                },
                "start": 44,
                "styles": {},
                "thickness_factor": 1
              },
              {
                "color": "#F44336",
                "directed": true,
                "end": 67,
                "id": 6917530127152710000,
                "label": "AVAILABILITY",
                "properties": {
                  "label": "AVAILABILITY"
                },
                "start": 45,
                "styles": {},
                "thickness_factor": 1
              },
              {
                "color": "#673AB7",
                "directed": true,
                "end": 67,
                "id": 1152925902653358000,
                "label": "AVAILABLE",
                "properties": {
                  "label": "AVAILABLE"
                },
                "start": 45,
                "styles": {},
                "thickness_factor": 1
              }
            ],
            "_graph_layout": {},
            "_highlight": [],
            "_license": {},
            "_model_module": "yfiles-jupyter-graphs",
            "_model_module_version": "^1.10.1",
            "_model_name": "GraphModel",
            "_neighborhood": {},
            "_nodes": [
              {
                "color": "#2196F3",
                "id": 1,
                "label": "Dr. Abhijit Kulkarni",
                "position": [
                  0,
                  0
                ],
                "properties": {
                  "id": "Dr. Abhijit Kulkarni",
                  "label": "Doctor:__Entity__:Person"
                },
                "scale_factor": 1,
                "size": [
                  55,
                  55
                ],
                "styles": {},
                "type": "#2196F3"
              },
              {
                "color": "#4CAF50",
                "id": 23,
                "label": "Monday To Saturday: 11:00 Am To 01:00 Pm",
                "position": [
                  0,
                  0
                ],
                "properties": {
                  "id": "Monday To Saturday: 11:00 Am To 01:00 Pm",
                  "label": "__Entity__"
                },
                "scale_factor": 1,
                "size": [
                  55,
                  55
                ],
                "styles": {},
                "type": "#4CAF50"
              },
              {
                "color": "#2196F3",
                "id": 2,
                "label": "Dr. Abhijit Bagul",
                "position": [
                  0,
                  0
                ],
                "properties": {
                  "id": "Dr. Abhijit Bagul",
                  "label": "Doctor:__Entity__:Person"
                },
                "scale_factor": 1,
                "size": [
                  55,
                  55
                ],
                "styles": {},
                "type": "#2196F3"
              },
              {
                "color": "#4CAF50",
                "id": 24,
                "label": "Monday To Saturday: 12:00 Pm To 01:00 Pm",
                "position": [
                  0,
                  0
                ],
                "properties": {
                  "id": "Monday To Saturday: 12:00 Pm To 01:00 Pm",
                  "label": "__Entity__"
                },
                "scale_factor": 1,
                "size": [
                  55,
                  55
                ],
                "styles": {},
                "type": "#4CAF50"
              },
              {
                "color": "#2196F3",
                "id": 3,
                "label": "Dr. Alok Sardesai",
                "position": [
                  0,
                  0
                ],
                "properties": {
                  "id": "Dr. Alok Sardesai",
                  "label": "Doctor:__Entity__:Person"
                },
                "scale_factor": 1,
                "size": [
                  55,
                  55
                ],
                "styles": {},
                "type": "#2196F3"
              },
              {
                "color": "#4CAF50",
                "id": 25,
                "label": "Thursday: 01:00 Pm To 02:00 Pm",
                "position": [
                  0,
                  0
                ],
                "properties": {
                  "id": "Thursday: 01:00 Pm To 02:00 Pm",
                  "label": "__Entity__"
                },
                "scale_factor": 1,
                "size": [
                  55,
                  55
                ],
                "styles": {},
                "type": "#4CAF50"
              },
              {
                "color": "#2196F3",
                "id": 4,
                "label": "Dr. Amit Patil",
                "position": [
                  0,
                  0
                ],
                "properties": {
                  "id": "Dr. Amit Patil",
                  "label": "Doctor:__Entity__:Person"
                },
                "scale_factor": 1,
                "size": [
                  55,
                  55
                ],
                "styles": {},
                "type": "#2196F3"
              },
              {
                "color": "#4CAF50",
                "id": 26,
                "label": "Monday To Saturday: 09:00 Am To 12:00 Pm",
                "position": [
                  0,
                  0
                ],
                "properties": {
                  "id": "Monday To Saturday: 09:00 Am To 12:00 Pm",
                  "label": "__Entity__"
                },
                "scale_factor": 1,
                "size": [
                  55,
                  55
                ],
                "styles": {},
                "type": "#4CAF50"
              },
              {
                "color": "#2196F3",
                "id": 5,
                "label": "Dr. Amit Singh",
                "position": [
                  0,
                  0
                ],
                "properties": {
                  "id": "Dr. Amit Singh",
                  "label": "Doctor:__Entity__:Person"
                },
                "scale_factor": 1,
                "size": [
                  55,
                  55
                ],
                "styles": {},
                "type": "#2196F3"
              },
              {
                "color": "#4CAF50",
                "id": 27,
                "label": "Monday To Saturday: 10:00 Am To 06:00 Pm",
                "position": [
                  0,
                  0
                ],
                "properties": {
                  "id": "Monday To Saturday: 10:00 Am To 06:00 Pm",
                  "label": "__Entity__"
                },
                "scale_factor": 1,
                "size": [
                  55,
                  55
                ],
                "styles": {},
                "type": "#4CAF50"
              },
              {
                "color": "#2196F3",
                "id": 6,
                "label": "Dr. Amjad Shaikh",
                "position": [
                  0,
                  0
                ],
                "properties": {
                  "id": "Dr. Amjad Shaikh",
                  "label": "Doctor:__Entity__:Person"
                },
                "scale_factor": 1,
                "size": [
                  55,
                  55
                ],
                "styles": {},
                "type": "#2196F3"
              },
              {
                "color": "#4CAF50",
                "id": 28,
                "label": "Monday To Friday: 02:00 Pm To 03:00 Pm",
                "position": [
                  0,
                  0
                ],
                "properties": {
                  "id": "Monday To Friday: 02:00 Pm To 03:00 Pm",
                  "label": "__Entity__"
                },
                "scale_factor": 1,
                "size": [
                  55,
                  55
                ],
                "styles": {},
                "type": "#4CAF50"
              },
              {
                "color": "#2196F3",
                "id": 7,
                "label": "Dr. Anish Gunnale",
                "position": [
                  0,
                  0
                ],
                "properties": {
                  "id": "Dr. Anish Gunnale",
                  "label": "Doctor:__Entity__:Person"
                },
                "scale_factor": 1,
                "size": [
                  55,
                  55
                ],
                "styles": {},
                "type": "#2196F3"
              },
              {
                "color": "#4CAF50",
                "id": 29,
                "label": "Monday To Saturday: 08:00 Am To 08:00 Pm",
                "position": [
                  0,
                  0
                ],
                "properties": {
                  "id": "Monday To Saturday: 08:00 Am To 08:00 Pm",
                  "label": "__Entity__"
                },
                "scale_factor": 1,
                "size": [
                  55,
                  55
                ],
                "styles": {},
                "type": "#4CAF50"
              },
              {
                "color": "#2196F3",
                "id": 8,
                "label": "Dr. Aparna Bansore",
                "position": [
                  0,
                  0
                ],
                "properties": {
                  "id": "Dr. Aparna Bansore",
                  "label": "Doctor:__Entity__:Person"
                },
                "scale_factor": 1,
                "size": [
                  55,
                  55
                ],
                "styles": {},
                "type": "#2196F3"
              },
              {
                "color": "#4CAF50",
                "id": 30,
                "label": "Monday, Wednesday, Saturday: 09:00 Am To 11:00 Am",
                "position": [
                  0,
                  0
                ],
                "properties": {
                  "id": "Monday, Wednesday, Saturday: 09:00 Am To 11:00 Am",
                  "label": "__Entity__"
                },
                "scale_factor": 1,
                "size": [
                  55,
                  55
                ],
                "styles": {},
                "type": "#4CAF50"
              },
              {
                "color": "#2196F3",
                "id": 9,
                "label": "Dr. Archana Jhawar",
                "position": [
                  0,
                  0
                ],
                "properties": {
                  "id": "Dr. Archana Jhawar",
                  "label": "Doctor:__Entity__:Person"
                },
                "scale_factor": 1,
                "size": [
                  55,
                  55
                ],
                "styles": {},
                "type": "#2196F3"
              },
              {
                "color": "#4CAF50",
                "id": 31,
                "label": "Monday, Thursday, Saturday: 11:00 Am To 12:00 Pm",
                "position": [
                  0,
                  0
                ],
                "properties": {
                  "id": "Monday, Thursday, Saturday: 11:00 Am To 12:00 Pm",
                  "label": "__Entity__"
                },
                "scale_factor": 1,
                "size": [
                  55,
                  55
                ],
                "styles": {},
                "type": "#4CAF50"
              },
              {
                "color": "#2196F3",
                "id": 10,
                "label": "Dr. Ashish Dhande",
                "position": [
                  0,
                  0
                ],
                "properties": {
                  "id": "Dr. Ashish Dhande",
                  "label": "Doctor:__Entity__:Person"
                },
                "scale_factor": 1,
                "size": [
                  55,
                  55
                ],
                "styles": {},
                "type": "#2196F3"
              },
              {
                "color": "#4CAF50",
                "id": 32,
                "label": "Wednesday: 04:00 Pm To 05:00 Pm",
                "position": [
                  0,
                  0
                ],
                "properties": {
                  "id": "Wednesday: 04:00 Pm To 05:00 Pm",
                  "label": "__Entity__"
                },
                "scale_factor": 1,
                "size": [
                  55,
                  55
                ],
                "styles": {},
                "type": "#4CAF50"
              },
              {
                "color": "#2196F3",
                "id": 11,
                "label": "Dr. Avinash Talele",
                "position": [
                  0,
                  0
                ],
                "properties": {
                  "id": "Dr. Avinash Talele",
                  "label": "Doctor:__Entity__:Person"
                },
                "scale_factor": 1,
                "size": [
                  55,
                  55
                ],
                "styles": {},
                "type": "#2196F3"
              },
              {
                "color": "#4CAF50",
                "id": 33,
                "label": "Monday To Saturday: 10:00 Am To 12:00 Pm",
                "position": [
                  0,
                  0
                ],
                "properties": {
                  "id": "Monday To Saturday: 10:00 Am To 12:00 Pm",
                  "label": "__Entity__"
                },
                "scale_factor": 1,
                "size": [
                  55,
                  55
                ],
                "styles": {},
                "type": "#4CAF50"
              },
              {
                "color": "#2196F3",
                "id": 12,
                "label": "Dr. Avinash Borade",
                "position": [
                  0,
                  0
                ],
                "properties": {
                  "id": "Dr. Avinash Borade",
                  "label": "Doctor:__Entity__:Person"
                },
                "scale_factor": 1,
                "size": [
                  55,
                  55
                ],
                "styles": {},
                "type": "#2196F3"
              },
              {
                "color": "#2196F3",
                "id": 13,
                "label": "Dr. Balbir Singh Kohli",
                "position": [
                  0,
                  0
                ],
                "properties": {
                  "id": "Dr. Balbir Singh Kohli",
                  "label": "Doctor:__Entity__:Person"
                },
                "scale_factor": 1,
                "size": [
                  55,
                  55
                ],
                "styles": {},
                "type": "#2196F3"
              },
              {
                "color": "#4CAF50",
                "id": 34,
                "label": "Monday To Saturday: 02:00 Pm To 04:00 Pm",
                "position": [
                  0,
                  0
                ],
                "properties": {
                  "id": "Monday To Saturday: 02:00 Pm To 04:00 Pm",
                  "label": "__Entity__"
                },
                "scale_factor": 1,
                "size": [
                  55,
                  55
                ],
                "styles": {},
                "type": "#4CAF50"
              },
              {
                "color": "#2196F3",
                "id": 14,
                "label": "Dr. Bandita Sinha",
                "position": [
                  0,
                  0
                ],
                "properties": {
                  "id": "Dr. Bandita Sinha",
                  "label": "Doctor:__Entity__:Person"
                },
                "scale_factor": 1,
                "size": [
                  55,
                  55
                ],
                "styles": {},
                "type": "#2196F3"
              },
              {
                "color": "#4CAF50",
                "id": 35,
                "label": "Monday, Wednesday, Friday: 03:00 Pm To 05:00 Pm",
                "position": [
                  0,
                  0
                ],
                "properties": {
                  "id": "Monday, Wednesday, Friday: 03:00 Pm To 05:00 Pm",
                  "label": "__Entity__"
                },
                "scale_factor": 1,
                "size": [
                  55,
                  55
                ],
                "styles": {},
                "type": "#4CAF50"
              },
              {
                "color": "#2196F3",
                "id": 15,
                "label": "Dr. Bharat Jagiasi",
                "position": [
                  0,
                  0
                ],
                "properties": {
                  "id": "Dr. Bharat Jagiasi",
                  "label": "Doctor:__Entity__:Person"
                },
                "scale_factor": 1,
                "size": [
                  55,
                  55
                ],
                "styles": {},
                "type": "#2196F3"
              },
              {
                "color": "#4CAF50",
                "id": 36,
                "label": "Monday To Saturday: 09:00 Am To 11:00 Am",
                "position": [
                  0,
                  0
                ],
                "properties": {
                  "id": "Monday To Saturday: 09:00 Am To 11:00 Am",
                  "label": "__Entity__"
                },
                "scale_factor": 1,
                "size": [
                  55,
                  55
                ],
                "styles": {},
                "type": "#4CAF50"
              },
              {
                "color": "#2196F3",
                "id": 16,
                "label": "Dr. Chaitanya Kulkarni",
                "position": [
                  0,
                  0
                ],
                "properties": {
                  "id": "Dr. Chaitanya Kulkarni",
                  "label": "Doctor:__Entity__:Person"
                },
                "scale_factor": 1,
                "size": [
                  55,
                  55
                ],
                "styles": {},
                "type": "#2196F3"
              },
              {
                "color": "#4CAF50",
                "id": 37,
                "label": "Monday To Saturday: 12:00 Pm To 02:00 Pm",
                "position": [
                  0,
                  0
                ],
                "properties": {
                  "id": "Monday To Saturday: 12:00 Pm To 02:00 Pm",
                  "label": "__Entity__"
                },
                "scale_factor": 1,
                "size": [
                  55,
                  55
                ],
                "styles": {},
                "type": "#4CAF50"
              },
              {
                "color": "#2196F3",
                "id": 17,
                "label": "Dr. Chetan Vispute",
                "position": [
                  0,
                  0
                ],
                "properties": {
                  "id": "Dr. Chetan Vispute",
                  "label": "Doctor:__Entity__:Person"
                },
                "scale_factor": 1,
                "size": [
                  55,
                  55
                ],
                "styles": {},
                "type": "#2196F3"
              },
              {
                "color": "#4CAF50",
                "id": 38,
                "label": "Monday To Saturday: 04:00 Pm To 06:00 Pm",
                "position": [
                  0,
                  0
                ],
                "properties": {
                  "id": "Monday To Saturday: 04:00 Pm To 06:00 Pm",
                  "label": "__Entity__"
                },
                "scale_factor": 1,
                "size": [
                  55,
                  55
                ],
                "styles": {},
                "type": "#4CAF50"
              },
              {
                "color": "#2196F3",
                "id": 18,
                "label": "Dr. Deepak Kumar Dangwal",
                "position": [
                  0,
                  0
                ],
                "properties": {
                  "id": "Dr. Deepak Kumar Dangwal",
                  "label": "Doctor:__Entity__:Person"
                },
                "scale_factor": 1,
                "size": [
                  55,
                  55
                ],
                "styles": {},
                "type": "#2196F3"
              },
              {
                "color": "#4CAF50",
                "id": 39,
                "label": "Monday To Saturday: 01:00 Pm To 03:00 Pm",
                "position": [
                  0,
                  0
                ],
                "properties": {
                  "id": "Monday To Saturday: 01:00 Pm To 03:00 Pm",
                  "label": "__Entity__"
                },
                "scale_factor": 1,
                "size": [
                  55,
                  55
                ],
                "styles": {},
                "type": "#4CAF50"
              },
              {
                "color": "#2196F3",
                "id": 19,
                "label": "Dr. Deepika Tavade",
                "position": [
                  0,
                  0
                ],
                "properties": {
                  "id": "Dr. Deepika Tavade",
                  "label": "Doctor:__Entity__:Person"
                },
                "scale_factor": 1,
                "size": [
                  55,
                  55
                ],
                "styles": {},
                "type": "#2196F3"
              },
              {
                "color": "#4CAF50",
                "id": 40,
                "label": "Monday, Wednesday, Friday: 10:00 Am To 12:00 Pm",
                "position": [
                  0,
                  0
                ],
                "properties": {
                  "id": "Monday, Wednesday, Friday: 10:00 Am To 12:00 Pm",
                  "label": "__Entity__"
                },
                "scale_factor": 1,
                "size": [
                  55,
                  55
                ],
                "styles": {},
                "type": "#4CAF50"
              },
              {
                "color": "#2196F3",
                "id": 20,
                "label": "Dr. Dipak Bhangale",
                "position": [
                  0,
                  0
                ],
                "properties": {
                  "id": "Dr. Dipak Bhangale",
                  "label": "Doctor:__Entity__:Person"
                },
                "scale_factor": 1,
                "size": [
                  55,
                  55
                ],
                "styles": {},
                "type": "#2196F3"
              },
              {
                "color": "#4CAF50",
                "id": 41,
                "label": "Monday To Saturday: 03:00 Pm To 05:00 Pm",
                "position": [
                  0,
                  0
                ],
                "properties": {
                  "id": "Monday To Saturday: 03:00 Pm To 05:00 Pm",
                  "label": "__Entity__"
                },
                "scale_factor": 1,
                "size": [
                  55,
                  55
                ],
                "styles": {},
                "type": "#4CAF50"
              },
              {
                "color": "#2196F3",
                "id": 21,
                "label": "Dr. Fuzail Pathan",
                "position": [
                  0,
                  0
                ],
                "properties": {
                  "id": "Dr. Fuzail Pathan",
                  "label": "Doctor:__Entity__:Person"
                },
                "scale_factor": 1,
                "size": [
                  55,
                  55
                ],
                "styles": {},
                "type": "#2196F3"
              },
              {
                "color": "#2196F3",
                "id": 22,
                "label": "Dr. G.R. Kane",
                "position": [
                  0,
                  0
                ],
                "properties": {
                  "id": "Dr. G.R. Kane",
                  "label": "Doctor:__Entity__:Person"
                },
                "scale_factor": 1,
                "size": [
                  55,
                  55
                ],
                "styles": {},
                "type": "#2196F3"
              },
              {
                "color": "#2196F3",
                "id": 43,
                "label": "Dr. Irphan Shaikh",
                "position": [
                  0,
                  0
                ],
                "properties": {
                  "id": "Dr. Irphan Shaikh",
                  "label": "Doctor:__Entity__:Person"
                },
                "scale_factor": 1,
                "size": [
                  55,
                  55
                ],
                "styles": {},
                "type": "#2196F3"
              },
              {
                "color": "#2196F3",
                "id": 44,
                "label": "Dr. Jaspreet Singh Khandpur",
                "position": [
                  0,
                  0
                ],
                "properties": {
                  "id": "Dr. Jaspreet Singh Khandpur",
                  "label": "Doctor:__Entity__:Person"
                },
                "scale_factor": 1,
                "size": [
                  55,
                  55
                ],
                "styles": {},
                "type": "#2196F3"
              },
              {
                "color": "#4CAF50",
                "id": 66,
                "label": "Monday To Saturday: 05:00 Pm To 07:00 Pm",
                "position": [
                  0,
                  0
                ],
                "properties": {
                  "id": "Monday To Saturday: 05:00 Pm To 07:00 Pm",
                  "label": "__Entity__"
                },
                "scale_factor": 1,
                "size": [
                  55,
                  55
                ],
                "styles": {},
                "type": "#4CAF50"
              },
              {
                "color": "#2196F3",
                "id": 45,
                "label": "Dr. Kumar Rajeev",
                "position": [
                  0,
                  0
                ],
                "properties": {
                  "id": "Dr. Kumar Rajeev",
                  "label": "Doctor:__Entity__:Person"
                },
                "scale_factor": 1,
                "size": [
                  55,
                  55
                ],
                "styles": {},
                "type": "#2196F3"
              },
              {
                "color": "#4CAF50",
                "id": 67,
                "label": "Monday To Saturday: 08:00 Am To 10:00 Am",
                "position": [
                  0,
                  0
                ],
                "properties": {
                  "id": "Monday To Saturday: 08:00 Am To 10:00 Am",
                  "label": "__Entity__"
                },
                "scale_factor": 1,
                "size": [
                  55,
                  55
                ],
                "styles": {},
                "type": "#4CAF50"
              }
            ],
            "_overview": {
              "enabled": null,
              "overview_set": false
            },
            "_selected_graph": [
              [],
              []
            ],
            "_sidebar": {
              "enabled": false,
              "start_with": null
            },
            "_view_count": null,
            "_view_module": "yfiles-jupyter-graphs",
            "_view_module_version": "^1.10.1",
            "_view_name": "GraphView",
            "layout": "IPY_MODEL_c6f70690d55e43f989bacd5a1d7a5e53",
            "tabbable": null,
            "tooltip": null
          }
        },
        "bcbda78bfb0344129a17f14c3e16ec03": {
          "model_module": "@jupyter-widgets/base",
          "model_module_version": "2.0.0",
          "model_name": "LayoutModel",
          "state": {
            "_model_module": "@jupyter-widgets/base",
            "_model_module_version": "2.0.0",
            "_model_name": "LayoutModel",
            "_view_count": null,
            "_view_module": "@jupyter-widgets/base",
            "_view_module_version": "2.0.0",
            "_view_name": "LayoutView",
            "align_content": null,
            "align_items": null,
            "align_self": null,
            "border_bottom": null,
            "border_left": null,
            "border_right": null,
            "border_top": null,
            "bottom": null,
            "display": null,
            "flex": null,
            "flex_flow": null,
            "grid_area": null,
            "grid_auto_columns": null,
            "grid_auto_flow": null,
            "grid_auto_rows": null,
            "grid_column": null,
            "grid_gap": null,
            "grid_row": null,
            "grid_template_areas": null,
            "grid_template_columns": null,
            "grid_template_rows": null,
            "height": "800px",
            "justify_content": null,
            "justify_items": null,
            "left": null,
            "margin": null,
            "max_height": null,
            "max_width": null,
            "min_height": null,
            "min_width": null,
            "object_fit": null,
            "object_position": null,
            "order": null,
            "overflow": null,
            "padding": null,
            "right": null,
            "top": null,
            "visibility": null,
            "width": "100%"
          }
        },
        "c6f70690d55e43f989bacd5a1d7a5e53": {
          "model_module": "@jupyter-widgets/base",
          "model_module_version": "2.0.0",
          "model_name": "LayoutModel",
          "state": {
            "_model_module": "@jupyter-widgets/base",
            "_model_module_version": "2.0.0",
            "_model_name": "LayoutModel",
            "_view_count": null,
            "_view_module": "@jupyter-widgets/base",
            "_view_module_version": "2.0.0",
            "_view_name": "LayoutView",
            "align_content": null,
            "align_items": null,
            "align_self": null,
            "border_bottom": null,
            "border_left": null,
            "border_right": null,
            "border_top": null,
            "bottom": null,
            "display": null,
            "flex": null,
            "flex_flow": null,
            "grid_area": null,
            "grid_auto_columns": null,
            "grid_auto_flow": null,
            "grid_auto_rows": null,
            "grid_column": null,
            "grid_gap": null,
            "grid_row": null,
            "grid_template_areas": null,
            "grid_template_columns": null,
            "grid_template_rows": null,
            "height": "800px",
            "justify_content": null,
            "justify_items": null,
            "left": null,
            "margin": null,
            "max_height": null,
            "max_width": null,
            "min_height": null,
            "min_width": null,
            "object_fit": null,
            "object_position": null,
            "order": null,
            "overflow": null,
            "padding": null,
            "right": null,
            "top": null,
            "visibility": null,
            "width": "100%"
          }
        }
      }
    }
  },
  "nbformat": 4,
  "nbformat_minor": 0
}
